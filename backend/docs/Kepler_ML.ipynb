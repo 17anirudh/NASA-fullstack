{
  "cells": [
    {
      "cell_type": "markdown",
      "metadata": {
        "id": "B61RgqUUT0uV"
      },
      "source": [
        "# Packages"
      ]
    },
    {
      "cell_type": "code",
      "execution_count": null,
      "metadata": {
        "id": "bmqSgd3pUTq_"
      },
      "outputs": [],
      "source": [
        "from IPython.display import clear_output\n",
        "!pip install catboost\n",
        "!pip install lightgbm\n",
        "!pip install xgboost\n",
        "clear_output()"
      ]
    },
    {
      "cell_type": "code",
      "execution_count": null,
      "metadata": {
        "id": "CbJ6CO4ETzFk"
      },
      "outputs": [],
      "source": [
        "import pandas as pd\n",
        "import numpy as np\n",
        "import matplotlib.pyplot as plt\n",
        "import seaborn as sns\n",
        "from sklearn.model_selection import train_test_split\n",
        "from typing import Any\n",
        "import joblib\n",
        "from sklearn.preprocessing import LabelEncoder, RobustScaler\n",
        "from sklearn.impute import KNNImputer\n",
        "from sklearn.feature_selection import SelectKBest, f_classif\n",
        "from imblearn.over_sampling import SMOTE\n",
        "from sklearn.pipeline import Pipeline\n",
        "from xgboost import XGBClassifier\n",
        "from lightgbm import LGBMClassifier\n",
        "from catboost import CatBoostClassifier\n",
        "from sklearn.model_selection import GridSearchCV\n",
        "from sklearn.metrics import confusion_matrix, accuracy_score, precision_score, recall_score, f1_score, classification_report\n",
        "from sklearn.ensemble import VotingClassifier\n",
        "from sklearn.neighbors import NearestNeighbors"
      ]
    },
    {
      "cell_type": "markdown",
      "metadata": {
        "id": "UPRJvy96Kc-r"
      },
      "source": [
        "# Data Collection\n",
        "Collecting data from Kepler Archieve"
      ]
    },
    {
      "cell_type": "code",
      "execution_count": null,
      "metadata": {
        "id": "jaiCDiVDLCPb"
      },
      "outputs": [],
      "source": [
        "df = pd.read_csv('Kepler.csv', skiprows=90)"
      ]
    },
    {
      "cell_type": "markdown",
      "metadata": {
        "id": "2ePhfDMUNL0H"
      },
      "source": [
        "# Data Cleaning + EDA\n",
        "Remove duplicates, fix types, obvious errors"
      ]
    },
    {
      "cell_type": "code",
      "execution_count": null,
      "metadata": {
        "colab": {
          "base_uri": "https://localhost:8080/"
        },
        "id": "ZatD0wKS5EDQ",
        "outputId": "7d4f1d0e-3f9b-43f1-861b-93e7ec49794f"
      },
      "outputs": [
        {
          "data": {
            "text/plain": [
              "['rowid',\n",
              " 'kepid',\n",
              " 'kepoi_name',\n",
              " 'kepler_name',\n",
              " 'koi_disposition',\n",
              " 'koi_vet_stat',\n",
              " 'koi_vet_date',\n",
              " 'koi_pdisposition',\n",
              " 'koi_score',\n",
              " 'koi_fpflag_nt',\n",
              " 'koi_fpflag_ss',\n",
              " 'koi_fpflag_co',\n",
              " 'koi_fpflag_ec',\n",
              " 'koi_disp_prov',\n",
              " 'koi_comment',\n",
              " 'koi_period',\n",
              " 'koi_time0bk',\n",
              " 'koi_time0',\n",
              " 'koi_eccen',\n",
              " 'koi_longp',\n",
              " 'koi_impact',\n",
              " 'koi_duration',\n",
              " 'koi_ingress',\n",
              " 'koi_depth',\n",
              " 'koi_ror',\n",
              " 'koi_srho',\n",
              " 'koi_fittype',\n",
              " 'koi_prad',\n",
              " 'koi_sma',\n",
              " 'koi_incl',\n",
              " 'koi_teq',\n",
              " 'koi_insol',\n",
              " 'koi_dor',\n",
              " 'koi_limbdark_mod',\n",
              " 'koi_ldm_coeff4',\n",
              " 'koi_ldm_coeff3',\n",
              " 'koi_ldm_coeff2',\n",
              " 'koi_ldm_coeff1',\n",
              " 'koi_parm_prov',\n",
              " 'koi_max_sngle_ev',\n",
              " 'koi_max_mult_ev',\n",
              " 'koi_model_snr',\n",
              " 'koi_count',\n",
              " 'koi_num_transits',\n",
              " 'koi_tce_plnt_num',\n",
              " 'koi_tce_delivname',\n",
              " 'koi_quarters',\n",
              " 'koi_bin_oedp_sig',\n",
              " 'koi_trans_mod',\n",
              " 'koi_model_dof',\n",
              " 'koi_model_chisq',\n",
              " 'koi_datalink_dvr',\n",
              " 'koi_datalink_dvs',\n",
              " 'koi_steff',\n",
              " 'koi_slogg',\n",
              " 'koi_smet',\n",
              " 'koi_srad',\n",
              " 'koi_smass',\n",
              " 'koi_sage',\n",
              " 'koi_sparprov',\n",
              " 'ra',\n",
              " 'dec',\n",
              " 'koi_kepmag',\n",
              " 'koi_gmag',\n",
              " 'koi_rmag',\n",
              " 'koi_imag',\n",
              " 'koi_zmag',\n",
              " 'koi_jmag',\n",
              " 'koi_hmag',\n",
              " 'koi_kmag',\n",
              " 'koi_fwm_stat_sig',\n",
              " 'koi_fwm_sra',\n",
              " 'koi_fwm_sdec',\n",
              " 'koi_fwm_srao',\n",
              " 'koi_fwm_sdeco',\n",
              " 'koi_fwm_prao',\n",
              " 'koi_fwm_pdeco',\n",
              " 'koi_dicco_mra',\n",
              " 'koi_dicco_mdec',\n",
              " 'koi_dicco_msky',\n",
              " 'koi_dikco_mra',\n",
              " 'koi_dikco_mdec',\n",
              " 'koi_dikco_msky']"
            ]
          },
          "execution_count": 202,
          "metadata": {},
          "output_type": "execute_result"
        }
      ],
      "source": [
        "df.columns.to_list()"
      ]
    },
    {
      "cell_type": "code",
      "execution_count": null,
      "metadata": {
        "colab": {
          "base_uri": "https://localhost:8080/"
        },
        "id": "GQ9paz6B5M5w",
        "outputId": "4c8b7cb9-c82b-4300-dd01-2f3711d14510"
      },
      "outputs": [
        {
          "data": {
            "application/vnd.google.colaboratory.intrinsic+json": {
              "type": "dataframe",
              "variable_name": "df"
            },
            "text/html": [
              "\n",
              "  <div id=\"df-bf00f119-5d1b-49b6-9015-2c314c612fe1\" class=\"colab-df-container\">\n",
              "    <div>\n",
              "<style scoped>\n",
              "    .dataframe tbody tr th:only-of-type {\n",
              "        vertical-align: middle;\n",
              "    }\n",
              "\n",
              "    .dataframe tbody tr th {\n",
              "        vertical-align: top;\n",
              "    }\n",
              "\n",
              "    .dataframe thead th {\n",
              "        text-align: right;\n",
              "    }\n",
              "</style>\n",
              "<table border=\"1\" class=\"dataframe\">\n",
              "  <thead>\n",
              "    <tr style=\"text-align: right;\">\n",
              "      <th></th>\n",
              "      <th>rowid</th>\n",
              "      <th>kepid</th>\n",
              "      <th>kepoi_name</th>\n",
              "      <th>kepler_name</th>\n",
              "      <th>koi_disposition</th>\n",
              "      <th>koi_vet_stat</th>\n",
              "      <th>koi_vet_date</th>\n",
              "      <th>koi_pdisposition</th>\n",
              "      <th>koi_score</th>\n",
              "      <th>koi_fpflag_nt</th>\n",
              "      <th>...</th>\n",
              "      <th>koi_fwm_srao</th>\n",
              "      <th>koi_fwm_sdeco</th>\n",
              "      <th>koi_fwm_prao</th>\n",
              "      <th>koi_fwm_pdeco</th>\n",
              "      <th>koi_dicco_mra</th>\n",
              "      <th>koi_dicco_mdec</th>\n",
              "      <th>koi_dicco_msky</th>\n",
              "      <th>koi_dikco_mra</th>\n",
              "      <th>koi_dikco_mdec</th>\n",
              "      <th>koi_dikco_msky</th>\n",
              "    </tr>\n",
              "  </thead>\n",
              "  <tbody>\n",
              "    <tr>\n",
              "      <th>0</th>\n",
              "      <td>1</td>\n",
              "      <td>10797460</td>\n",
              "      <td>K00752.01</td>\n",
              "      <td>Kepler-227 b</td>\n",
              "      <td>CONFIRMED</td>\n",
              "      <td>Done</td>\n",
              "      <td>2018-08-16</td>\n",
              "      <td>CANDIDATE</td>\n",
              "      <td>1.000</td>\n",
              "      <td>0</td>\n",
              "      <td>...</td>\n",
              "      <td>0.430</td>\n",
              "      <td>0.940</td>\n",
              "      <td>-0.00020</td>\n",
              "      <td>-0.00055</td>\n",
              "      <td>-0.010</td>\n",
              "      <td>0.200</td>\n",
              "      <td>0.200</td>\n",
              "      <td>0.080</td>\n",
              "      <td>0.310</td>\n",
              "      <td>0.320</td>\n",
              "    </tr>\n",
              "    <tr>\n",
              "      <th>1</th>\n",
              "      <td>2</td>\n",
              "      <td>10797460</td>\n",
              "      <td>K00752.02</td>\n",
              "      <td>Kepler-227 c</td>\n",
              "      <td>CONFIRMED</td>\n",
              "      <td>Done</td>\n",
              "      <td>2018-08-16</td>\n",
              "      <td>CANDIDATE</td>\n",
              "      <td>0.969</td>\n",
              "      <td>0</td>\n",
              "      <td>...</td>\n",
              "      <td>-0.630</td>\n",
              "      <td>1.230</td>\n",
              "      <td>0.00066</td>\n",
              "      <td>-0.00105</td>\n",
              "      <td>0.390</td>\n",
              "      <td>0.000</td>\n",
              "      <td>0.390</td>\n",
              "      <td>0.490</td>\n",
              "      <td>0.120</td>\n",
              "      <td>0.500</td>\n",
              "    </tr>\n",
              "    <tr>\n",
              "      <th>2</th>\n",
              "      <td>3</td>\n",
              "      <td>10811496</td>\n",
              "      <td>K00753.01</td>\n",
              "      <td>NaN</td>\n",
              "      <td>CANDIDATE</td>\n",
              "      <td>Done</td>\n",
              "      <td>2018-08-16</td>\n",
              "      <td>CANDIDATE</td>\n",
              "      <td>0.000</td>\n",
              "      <td>0</td>\n",
              "      <td>...</td>\n",
              "      <td>-0.021</td>\n",
              "      <td>-0.038</td>\n",
              "      <td>0.00070</td>\n",
              "      <td>0.00060</td>\n",
              "      <td>-0.025</td>\n",
              "      <td>-0.034</td>\n",
              "      <td>0.042</td>\n",
              "      <td>0.002</td>\n",
              "      <td>-0.027</td>\n",
              "      <td>0.027</td>\n",
              "    </tr>\n",
              "    <tr>\n",
              "      <th>3</th>\n",
              "      <td>4</td>\n",
              "      <td>10848459</td>\n",
              "      <td>K00754.01</td>\n",
              "      <td>NaN</td>\n",
              "      <td>FALSE POSITIVE</td>\n",
              "      <td>Done</td>\n",
              "      <td>2018-08-16</td>\n",
              "      <td>FALSE POSITIVE</td>\n",
              "      <td>0.000</td>\n",
              "      <td>0</td>\n",
              "      <td>...</td>\n",
              "      <td>-0.111</td>\n",
              "      <td>0.002</td>\n",
              "      <td>0.00302</td>\n",
              "      <td>-0.00142</td>\n",
              "      <td>-0.249</td>\n",
              "      <td>0.147</td>\n",
              "      <td>0.289</td>\n",
              "      <td>-0.257</td>\n",
              "      <td>0.099</td>\n",
              "      <td>0.276</td>\n",
              "    </tr>\n",
              "    <tr>\n",
              "      <th>4</th>\n",
              "      <td>5</td>\n",
              "      <td>10854555</td>\n",
              "      <td>K00755.01</td>\n",
              "      <td>Kepler-664 b</td>\n",
              "      <td>CONFIRMED</td>\n",
              "      <td>Done</td>\n",
              "      <td>2018-08-16</td>\n",
              "      <td>CANDIDATE</td>\n",
              "      <td>1.000</td>\n",
              "      <td>0</td>\n",
              "      <td>...</td>\n",
              "      <td>-0.010</td>\n",
              "      <td>0.230</td>\n",
              "      <td>0.00008</td>\n",
              "      <td>-0.00007</td>\n",
              "      <td>0.030</td>\n",
              "      <td>-0.090</td>\n",
              "      <td>0.100</td>\n",
              "      <td>0.070</td>\n",
              "      <td>0.020</td>\n",
              "      <td>0.070</td>\n",
              "    </tr>\n",
              "  </tbody>\n",
              "</table>\n",
              "<p>5 rows × 83 columns</p>\n",
              "</div>\n",
              "    <div class=\"colab-df-buttons\">\n",
              "\n",
              "  <div class=\"colab-df-container\">\n",
              "    <button class=\"colab-df-convert\" onclick=\"convertToInteractive('df-bf00f119-5d1b-49b6-9015-2c314c612fe1')\"\n",
              "            title=\"Convert this dataframe to an interactive table.\"\n",
              "            style=\"display:none;\">\n",
              "\n",
              "  <svg xmlns=\"http://www.w3.org/2000/svg\" height=\"24px\" viewBox=\"0 -960 960 960\">\n",
              "    <path d=\"M120-120v-720h720v720H120Zm60-500h600v-160H180v160Zm220 220h160v-160H400v160Zm0 220h160v-160H400v160ZM180-400h160v-160H180v160Zm440 0h160v-160H620v160ZM180-180h160v-160H180v160Zm440 0h160v-160H620v160Z\"/>\n",
              "  </svg>\n",
              "    </button>\n",
              "\n",
              "  <style>\n",
              "    .colab-df-container {\n",
              "      display:flex;\n",
              "      gap: 12px;\n",
              "    }\n",
              "\n",
              "    .colab-df-convert {\n",
              "      background-color: #E8F0FE;\n",
              "      border: none;\n",
              "      border-radius: 50%;\n",
              "      cursor: pointer;\n",
              "      display: none;\n",
              "      fill: #1967D2;\n",
              "      height: 32px;\n",
              "      padding: 0 0 0 0;\n",
              "      width: 32px;\n",
              "    }\n",
              "\n",
              "    .colab-df-convert:hover {\n",
              "      background-color: #E2EBFA;\n",
              "      box-shadow: 0px 1px 2px rgba(60, 64, 67, 0.3), 0px 1px 3px 1px rgba(60, 64, 67, 0.15);\n",
              "      fill: #174EA6;\n",
              "    }\n",
              "\n",
              "    .colab-df-buttons div {\n",
              "      margin-bottom: 4px;\n",
              "    }\n",
              "\n",
              "    [theme=dark] .colab-df-convert {\n",
              "      background-color: #3B4455;\n",
              "      fill: #D2E3FC;\n",
              "    }\n",
              "\n",
              "    [theme=dark] .colab-df-convert:hover {\n",
              "      background-color: #434B5C;\n",
              "      box-shadow: 0px 1px 3px 1px rgba(0, 0, 0, 0.15);\n",
              "      filter: drop-shadow(0px 1px 2px rgba(0, 0, 0, 0.3));\n",
              "      fill: #FFFFFF;\n",
              "    }\n",
              "  </style>\n",
              "\n",
              "    <script>\n",
              "      const buttonEl =\n",
              "        document.querySelector('#df-bf00f119-5d1b-49b6-9015-2c314c612fe1 button.colab-df-convert');\n",
              "      buttonEl.style.display =\n",
              "        google.colab.kernel.accessAllowed ? 'block' : 'none';\n",
              "\n",
              "      async function convertToInteractive(key) {\n",
              "        const element = document.querySelector('#df-bf00f119-5d1b-49b6-9015-2c314c612fe1');\n",
              "        const dataTable =\n",
              "          await google.colab.kernel.invokeFunction('convertToInteractive',\n",
              "                                                    [key], {});\n",
              "        if (!dataTable) return;\n",
              "\n",
              "        const docLinkHtml = 'Like what you see? Visit the ' +\n",
              "          '<a target=\"_blank\" href=https://colab.research.google.com/notebooks/data_table.ipynb>data table notebook</a>'\n",
              "          + ' to learn more about interactive tables.';\n",
              "        element.innerHTML = '';\n",
              "        dataTable['output_type'] = 'display_data';\n",
              "        await google.colab.output.renderOutput(dataTable, element);\n",
              "        const docLink = document.createElement('div');\n",
              "        docLink.innerHTML = docLinkHtml;\n",
              "        element.appendChild(docLink);\n",
              "      }\n",
              "    </script>\n",
              "  </div>\n",
              "\n",
              "\n",
              "    <div id=\"df-29e6ad01-33fe-4e7b-af28-c902107b190a\">\n",
              "      <button class=\"colab-df-quickchart\" onclick=\"quickchart('df-29e6ad01-33fe-4e7b-af28-c902107b190a')\"\n",
              "                title=\"Suggest charts\"\n",
              "                style=\"display:none;\">\n",
              "\n",
              "<svg xmlns=\"http://www.w3.org/2000/svg\" height=\"24px\"viewBox=\"0 0 24 24\"\n",
              "     width=\"24px\">\n",
              "    <g>\n",
              "        <path d=\"M19 3H5c-1.1 0-2 .9-2 2v14c0 1.1.9 2 2 2h14c1.1 0 2-.9 2-2V5c0-1.1-.9-2-2-2zM9 17H7v-7h2v7zm4 0h-2V7h2v10zm4 0h-2v-4h2v4z\"/>\n",
              "    </g>\n",
              "</svg>\n",
              "      </button>\n",
              "\n",
              "<style>\n",
              "  .colab-df-quickchart {\n",
              "      --bg-color: #E8F0FE;\n",
              "      --fill-color: #1967D2;\n",
              "      --hover-bg-color: #E2EBFA;\n",
              "      --hover-fill-color: #174EA6;\n",
              "      --disabled-fill-color: #AAA;\n",
              "      --disabled-bg-color: #DDD;\n",
              "  }\n",
              "\n",
              "  [theme=dark] .colab-df-quickchart {\n",
              "      --bg-color: #3B4455;\n",
              "      --fill-color: #D2E3FC;\n",
              "      --hover-bg-color: #434B5C;\n",
              "      --hover-fill-color: #FFFFFF;\n",
              "      --disabled-bg-color: #3B4455;\n",
              "      --disabled-fill-color: #666;\n",
              "  }\n",
              "\n",
              "  .colab-df-quickchart {\n",
              "    background-color: var(--bg-color);\n",
              "    border: none;\n",
              "    border-radius: 50%;\n",
              "    cursor: pointer;\n",
              "    display: none;\n",
              "    fill: var(--fill-color);\n",
              "    height: 32px;\n",
              "    padding: 0;\n",
              "    width: 32px;\n",
              "  }\n",
              "\n",
              "  .colab-df-quickchart:hover {\n",
              "    background-color: var(--hover-bg-color);\n",
              "    box-shadow: 0 1px 2px rgba(60, 64, 67, 0.3), 0 1px 3px 1px rgba(60, 64, 67, 0.15);\n",
              "    fill: var(--button-hover-fill-color);\n",
              "  }\n",
              "\n",
              "  .colab-df-quickchart-complete:disabled,\n",
              "  .colab-df-quickchart-complete:disabled:hover {\n",
              "    background-color: var(--disabled-bg-color);\n",
              "    fill: var(--disabled-fill-color);\n",
              "    box-shadow: none;\n",
              "  }\n",
              "\n",
              "  .colab-df-spinner {\n",
              "    border: 2px solid var(--fill-color);\n",
              "    border-color: transparent;\n",
              "    border-bottom-color: var(--fill-color);\n",
              "    animation:\n",
              "      spin 1s steps(1) infinite;\n",
              "  }\n",
              "\n",
              "  @keyframes spin {\n",
              "    0% {\n",
              "      border-color: transparent;\n",
              "      border-bottom-color: var(--fill-color);\n",
              "      border-left-color: var(--fill-color);\n",
              "    }\n",
              "    20% {\n",
              "      border-color: transparent;\n",
              "      border-left-color: var(--fill-color);\n",
              "      border-top-color: var(--fill-color);\n",
              "    }\n",
              "    30% {\n",
              "      border-color: transparent;\n",
              "      border-left-color: var(--fill-color);\n",
              "      border-top-color: var(--fill-color);\n",
              "      border-right-color: var(--fill-color);\n",
              "    }\n",
              "    40% {\n",
              "      border-color: transparent;\n",
              "      border-right-color: var(--fill-color);\n",
              "      border-top-color: var(--fill-color);\n",
              "    }\n",
              "    60% {\n",
              "      border-color: transparent;\n",
              "      border-right-color: var(--fill-color);\n",
              "    }\n",
              "    80% {\n",
              "      border-color: transparent;\n",
              "      border-right-color: var(--fill-color);\n",
              "      border-bottom-color: var(--fill-color);\n",
              "    }\n",
              "    90% {\n",
              "      border-color: transparent;\n",
              "      border-bottom-color: var(--fill-color);\n",
              "    }\n",
              "  }\n",
              "</style>\n",
              "\n",
              "      <script>\n",
              "        async function quickchart(key) {\n",
              "          const quickchartButtonEl =\n",
              "            document.querySelector('#' + key + ' button');\n",
              "          quickchartButtonEl.disabled = true;  // To prevent multiple clicks.\n",
              "          quickchartButtonEl.classList.add('colab-df-spinner');\n",
              "          try {\n",
              "            const charts = await google.colab.kernel.invokeFunction(\n",
              "                'suggestCharts', [key], {});\n",
              "          } catch (error) {\n",
              "            console.error('Error during call to suggestCharts:', error);\n",
              "          }\n",
              "          quickchartButtonEl.classList.remove('colab-df-spinner');\n",
              "          quickchartButtonEl.classList.add('colab-df-quickchart-complete');\n",
              "        }\n",
              "        (() => {\n",
              "          let quickchartButtonEl =\n",
              "            document.querySelector('#df-29e6ad01-33fe-4e7b-af28-c902107b190a button');\n",
              "          quickchartButtonEl.style.display =\n",
              "            google.colab.kernel.accessAllowed ? 'block' : 'none';\n",
              "        })();\n",
              "      </script>\n",
              "    </div>\n",
              "\n",
              "    </div>\n",
              "  </div>\n"
            ],
            "text/plain": [
              "   rowid     kepid kepoi_name   kepler_name koi_disposition koi_vet_stat  \\\n",
              "0      1  10797460  K00752.01  Kepler-227 b       CONFIRMED         Done   \n",
              "1      2  10797460  K00752.02  Kepler-227 c       CONFIRMED         Done   \n",
              "2      3  10811496  K00753.01           NaN       CANDIDATE         Done   \n",
              "3      4  10848459  K00754.01           NaN  FALSE POSITIVE         Done   \n",
              "4      5  10854555  K00755.01  Kepler-664 b       CONFIRMED         Done   \n",
              "\n",
              "  koi_vet_date koi_pdisposition  koi_score  koi_fpflag_nt  ...  koi_fwm_srao  \\\n",
              "0   2018-08-16        CANDIDATE      1.000              0  ...         0.430   \n",
              "1   2018-08-16        CANDIDATE      0.969              0  ...        -0.630   \n",
              "2   2018-08-16        CANDIDATE      0.000              0  ...        -0.021   \n",
              "3   2018-08-16   FALSE POSITIVE      0.000              0  ...        -0.111   \n",
              "4   2018-08-16        CANDIDATE      1.000              0  ...        -0.010   \n",
              "\n",
              "   koi_fwm_sdeco  koi_fwm_prao koi_fwm_pdeco koi_dicco_mra  koi_dicco_mdec  \\\n",
              "0          0.940      -0.00020      -0.00055        -0.010           0.200   \n",
              "1          1.230       0.00066      -0.00105         0.390           0.000   \n",
              "2         -0.038       0.00070       0.00060        -0.025          -0.034   \n",
              "3          0.002       0.00302      -0.00142        -0.249           0.147   \n",
              "4          0.230       0.00008      -0.00007         0.030          -0.090   \n",
              "\n",
              "   koi_dicco_msky  koi_dikco_mra  koi_dikco_mdec  koi_dikco_msky  \n",
              "0           0.200          0.080           0.310           0.320  \n",
              "1           0.390          0.490           0.120           0.500  \n",
              "2           0.042          0.002          -0.027           0.027  \n",
              "3           0.289         -0.257           0.099           0.276  \n",
              "4           0.100          0.070           0.020           0.070  \n",
              "\n",
              "[5 rows x 83 columns]"
            ]
          },
          "execution_count": 203,
          "metadata": {},
          "output_type": "execute_result"
        }
      ],
      "source": [
        "df.head()"
      ]
    },
    {
      "cell_type": "code",
      "execution_count": null,
      "metadata": {
        "colab": {
          "base_uri": "https://localhost:8080/"
        },
        "id": "zvIQyF3l35nE",
        "outputId": "e85b202c-08bb-4855-e964-01c1d7574cb9"
      },
      "outputs": [
        {
          "data": {
            "text/plain": [
              "(83, 35)"
            ]
          },
          "execution_count": 204,
          "metadata": {},
          "output_type": "execute_result"
        }
      ],
      "source": [
        "needed_columns: list[str] = ['koi_disposition', 'koi_score', 'koi_period', 'koi_eccen', 'koi_impact',\n",
        "       'koi_duration', 'koi_depth', 'koi_prad', 'koi_teq', 'koi_max_sngle_ev',\n",
        "       'koi_max_mult_ev', 'koi_model_snr', 'koi_count', 'koi_num_transits',\n",
        "       'koi_bin_oedp_sig', 'koi_model_chisq', 'koi_steff', 'koi_slogg',\n",
        "       'koi_srad', 'koi_smass', 'koi_kepmag', 'koi_gmag', 'koi_rmag',\n",
        "       'koi_jmag', 'koi_kmag', 'koi_fwm_stat_sig', 'koi_fwm_prao',\n",
        "       'koi_fwm_pdeco', 'koi_dicco_mra', 'koi_dicco_msky', 'koi_dikco_mra',\n",
        "       'koi_dikco_msky']\n",
        "identification_columns: list[str] = ['kepid', 'kepoi_name', 'kepler_name']\n",
        "\n",
        "for i in identification_columns:\n",
        "  needed_columns.append(i)\n",
        "len(df.columns.to_list()), len(needed_columns)"
      ]
    },
    {
      "cell_type": "code",
      "execution_count": null,
      "metadata": {
        "id": "eHxzNJu4TeuV"
      },
      "outputs": [],
      "source": [
        "# #9564\n",
        "# kd_value_dict, kp_value_dict = df['koi_disposition'].value_counts().to_dict(), df['koi_pdisposition'].value_counts().to_dict()\n",
        "# print(kd_value_dict['CANDIDATE']/9564, kp_value_dict['CANDIDATE']/9564, kp_value_dict['FALSE POSITIVE'])"
      ]
    },
    {
      "cell_type": "code",
      "execution_count": null,
      "metadata": {
        "id": "9Bqo3yjqR8Iz"
      },
      "outputs": [],
      "source": [
        "# sns.countplot(data=df, y='koi_pdisposition')"
      ]
    },
    {
      "cell_type": "code",
      "execution_count": null,
      "metadata": {
        "id": "t4LCAguCfjdC"
      },
      "outputs": [],
      "source": [
        "# for i in numerical_columns:\n",
        "#   if i.endswith((\"_err\", \"_err1\", \"_err2\")):\n",
        "#     df.drop(i, axis=1, inplace=True)\n",
        "#     numerical_columns.remove(i)"
      ]
    },
    {
      "cell_type": "code",
      "execution_count": null,
      "metadata": {
        "id": "5piO0ypk3wYo"
      },
      "outputs": [],
      "source": [
        "#Already ran tests, hence keeping only necessary columns\n",
        "df = df[needed_columns]"
      ]
    },
    {
      "cell_type": "code",
      "execution_count": null,
      "metadata": {
        "colab": {
          "base_uri": "https://localhost:8080/"
        },
        "id": "MKhlg9Ma4GRa",
        "outputId": "161c856b-adb7-4e4e-9c23-e6a2792ab0e6"
      },
      "outputs": [
        {
          "data": {
            "text/plain": [
              "(35, 35)"
            ]
          },
          "execution_count": 209,
          "metadata": {},
          "output_type": "execute_result"
        }
      ],
      "source": [
        "len(df.columns.to_list()), len(needed_columns)"
      ]
    },
    {
      "cell_type": "code",
      "execution_count": null,
      "metadata": {
        "colab": {
          "base_uri": "https://localhost:8080/"
        },
        "id": "eTpk6UGDO3zz",
        "outputId": "fac606ae-f6d9-4438-e2df-72545d7292b0"
      },
      "outputs": [
        {
          "data": {
            "application/vnd.google.colaboratory.intrinsic+json": {
              "summary": "{\n  \"name\": \"df[df\",\n  \"rows\": 9564,\n  \"fields\": [\n    {\n      \"column\": \"koi_disposition\",\n      \"properties\": {\n        \"dtype\": \"category\",\n        \"num_unique_values\": 3,\n        \"samples\": [\n          \"CONFIRMED\",\n          \"CANDIDATE\",\n          \"FALSE POSITIVE\"\n        ],\n        \"semantic_type\": \"\",\n        \"description\": \"\"\n      }\n    },\n    {\n      \"column\": \"kepoi_name\",\n      \"properties\": {\n        \"dtype\": \"string\",\n        \"num_unique_values\": 9564,\n        \"samples\": [\n          \"K06884.01\",\n          \"K03395.01\",\n          \"K01751.01\"\n        ],\n        \"semantic_type\": \"\",\n        \"description\": \"\"\n      }\n    },\n    {\n      \"column\": \"kepler_name\",\n      \"properties\": {\n        \"dtype\": \"category\",\n        \"num_unique_values\": 2747,\n        \"samples\": [\n          \"Kepler-1409 b\",\n          \"Kepler-1534 b\",\n          \"Kepler-654 b\"\n        ],\n        \"semantic_type\": \"\",\n        \"description\": \"\"\n      }\n    }\n  ]\n}",
              "type": "dataframe"
            },
            "text/html": [
              "\n",
              "  <div id=\"df-8469a7c8-8cc7-4e97-bd08-de866c7cfbd6\" class=\"colab-df-container\">\n",
              "    <div>\n",
              "<style scoped>\n",
              "    .dataframe tbody tr th:only-of-type {\n",
              "        vertical-align: middle;\n",
              "    }\n",
              "\n",
              "    .dataframe tbody tr th {\n",
              "        vertical-align: top;\n",
              "    }\n",
              "\n",
              "    .dataframe thead th {\n",
              "        text-align: right;\n",
              "    }\n",
              "</style>\n",
              "<table border=\"1\" class=\"dataframe\">\n",
              "  <thead>\n",
              "    <tr style=\"text-align: right;\">\n",
              "      <th></th>\n",
              "      <th>koi_disposition</th>\n",
              "      <th>kepoi_name</th>\n",
              "      <th>kepler_name</th>\n",
              "    </tr>\n",
              "  </thead>\n",
              "  <tbody>\n",
              "    <tr>\n",
              "      <th>0</th>\n",
              "      <td>CONFIRMED</td>\n",
              "      <td>K00752.01</td>\n",
              "      <td>Kepler-227 b</td>\n",
              "    </tr>\n",
              "    <tr>\n",
              "      <th>1</th>\n",
              "      <td>CONFIRMED</td>\n",
              "      <td>K00752.02</td>\n",
              "      <td>Kepler-227 c</td>\n",
              "    </tr>\n",
              "    <tr>\n",
              "      <th>2</th>\n",
              "      <td>CANDIDATE</td>\n",
              "      <td>K00753.01</td>\n",
              "      <td>NaN</td>\n",
              "    </tr>\n",
              "    <tr>\n",
              "      <th>3</th>\n",
              "      <td>FALSE POSITIVE</td>\n",
              "      <td>K00754.01</td>\n",
              "      <td>NaN</td>\n",
              "    </tr>\n",
              "    <tr>\n",
              "      <th>4</th>\n",
              "      <td>CONFIRMED</td>\n",
              "      <td>K00755.01</td>\n",
              "      <td>Kepler-664 b</td>\n",
              "    </tr>\n",
              "    <tr>\n",
              "      <th>...</th>\n",
              "      <td>...</td>\n",
              "      <td>...</td>\n",
              "      <td>...</td>\n",
              "    </tr>\n",
              "    <tr>\n",
              "      <th>9559</th>\n",
              "      <td>FALSE POSITIVE</td>\n",
              "      <td>K07985.01</td>\n",
              "      <td>NaN</td>\n",
              "    </tr>\n",
              "    <tr>\n",
              "      <th>9560</th>\n",
              "      <td>CANDIDATE</td>\n",
              "      <td>K07986.01</td>\n",
              "      <td>NaN</td>\n",
              "    </tr>\n",
              "    <tr>\n",
              "      <th>9561</th>\n",
              "      <td>FALSE POSITIVE</td>\n",
              "      <td>K07987.01</td>\n",
              "      <td>NaN</td>\n",
              "    </tr>\n",
              "    <tr>\n",
              "      <th>9562</th>\n",
              "      <td>CANDIDATE</td>\n",
              "      <td>K07988.01</td>\n",
              "      <td>NaN</td>\n",
              "    </tr>\n",
              "    <tr>\n",
              "      <th>9563</th>\n",
              "      <td>FALSE POSITIVE</td>\n",
              "      <td>K07989.01</td>\n",
              "      <td>NaN</td>\n",
              "    </tr>\n",
              "  </tbody>\n",
              "</table>\n",
              "<p>9564 rows × 3 columns</p>\n",
              "</div>\n",
              "    <div class=\"colab-df-buttons\">\n",
              "\n",
              "  <div class=\"colab-df-container\">\n",
              "    <button class=\"colab-df-convert\" onclick=\"convertToInteractive('df-8469a7c8-8cc7-4e97-bd08-de866c7cfbd6')\"\n",
              "            title=\"Convert this dataframe to an interactive table.\"\n",
              "            style=\"display:none;\">\n",
              "\n",
              "  <svg xmlns=\"http://www.w3.org/2000/svg\" height=\"24px\" viewBox=\"0 -960 960 960\">\n",
              "    <path d=\"M120-120v-720h720v720H120Zm60-500h600v-160H180v160Zm220 220h160v-160H400v160Zm0 220h160v-160H400v160ZM180-400h160v-160H180v160Zm440 0h160v-160H620v160ZM180-180h160v-160H180v160Zm440 0h160v-160H620v160Z\"/>\n",
              "  </svg>\n",
              "    </button>\n",
              "\n",
              "  <style>\n",
              "    .colab-df-container {\n",
              "      display:flex;\n",
              "      gap: 12px;\n",
              "    }\n",
              "\n",
              "    .colab-df-convert {\n",
              "      background-color: #E8F0FE;\n",
              "      border: none;\n",
              "      border-radius: 50%;\n",
              "      cursor: pointer;\n",
              "      display: none;\n",
              "      fill: #1967D2;\n",
              "      height: 32px;\n",
              "      padding: 0 0 0 0;\n",
              "      width: 32px;\n",
              "    }\n",
              "\n",
              "    .colab-df-convert:hover {\n",
              "      background-color: #E2EBFA;\n",
              "      box-shadow: 0px 1px 2px rgba(60, 64, 67, 0.3), 0px 1px 3px 1px rgba(60, 64, 67, 0.15);\n",
              "      fill: #174EA6;\n",
              "    }\n",
              "\n",
              "    .colab-df-buttons div {\n",
              "      margin-bottom: 4px;\n",
              "    }\n",
              "\n",
              "    [theme=dark] .colab-df-convert {\n",
              "      background-color: #3B4455;\n",
              "      fill: #D2E3FC;\n",
              "    }\n",
              "\n",
              "    [theme=dark] .colab-df-convert:hover {\n",
              "      background-color: #434B5C;\n",
              "      box-shadow: 0px 1px 3px 1px rgba(0, 0, 0, 0.15);\n",
              "      filter: drop-shadow(0px 1px 2px rgba(0, 0, 0, 0.3));\n",
              "      fill: #FFFFFF;\n",
              "    }\n",
              "  </style>\n",
              "\n",
              "    <script>\n",
              "      const buttonEl =\n",
              "        document.querySelector('#df-8469a7c8-8cc7-4e97-bd08-de866c7cfbd6 button.colab-df-convert');\n",
              "      buttonEl.style.display =\n",
              "        google.colab.kernel.accessAllowed ? 'block' : 'none';\n",
              "\n",
              "      async function convertToInteractive(key) {\n",
              "        const element = document.querySelector('#df-8469a7c8-8cc7-4e97-bd08-de866c7cfbd6');\n",
              "        const dataTable =\n",
              "          await google.colab.kernel.invokeFunction('convertToInteractive',\n",
              "                                                    [key], {});\n",
              "        if (!dataTable) return;\n",
              "\n",
              "        const docLinkHtml = 'Like what you see? Visit the ' +\n",
              "          '<a target=\"_blank\" href=https://colab.research.google.com/notebooks/data_table.ipynb>data table notebook</a>'\n",
              "          + ' to learn more about interactive tables.';\n",
              "        element.innerHTML = '';\n",
              "        dataTable['output_type'] = 'display_data';\n",
              "        await google.colab.output.renderOutput(dataTable, element);\n",
              "        const docLink = document.createElement('div');\n",
              "        docLink.innerHTML = docLinkHtml;\n",
              "        element.appendChild(docLink);\n",
              "      }\n",
              "    </script>\n",
              "  </div>\n",
              "\n",
              "\n",
              "    <div id=\"df-cf542e53-9e69-4193-9038-7d69263c1eda\">\n",
              "      <button class=\"colab-df-quickchart\" onclick=\"quickchart('df-cf542e53-9e69-4193-9038-7d69263c1eda')\"\n",
              "                title=\"Suggest charts\"\n",
              "                style=\"display:none;\">\n",
              "\n",
              "<svg xmlns=\"http://www.w3.org/2000/svg\" height=\"24px\"viewBox=\"0 0 24 24\"\n",
              "     width=\"24px\">\n",
              "    <g>\n",
              "        <path d=\"M19 3H5c-1.1 0-2 .9-2 2v14c0 1.1.9 2 2 2h14c1.1 0 2-.9 2-2V5c0-1.1-.9-2-2-2zM9 17H7v-7h2v7zm4 0h-2V7h2v10zm4 0h-2v-4h2v4z\"/>\n",
              "    </g>\n",
              "</svg>\n",
              "      </button>\n",
              "\n",
              "<style>\n",
              "  .colab-df-quickchart {\n",
              "      --bg-color: #E8F0FE;\n",
              "      --fill-color: #1967D2;\n",
              "      --hover-bg-color: #E2EBFA;\n",
              "      --hover-fill-color: #174EA6;\n",
              "      --disabled-fill-color: #AAA;\n",
              "      --disabled-bg-color: #DDD;\n",
              "  }\n",
              "\n",
              "  [theme=dark] .colab-df-quickchart {\n",
              "      --bg-color: #3B4455;\n",
              "      --fill-color: #D2E3FC;\n",
              "      --hover-bg-color: #434B5C;\n",
              "      --hover-fill-color: #FFFFFF;\n",
              "      --disabled-bg-color: #3B4455;\n",
              "      --disabled-fill-color: #666;\n",
              "  }\n",
              "\n",
              "  .colab-df-quickchart {\n",
              "    background-color: var(--bg-color);\n",
              "    border: none;\n",
              "    border-radius: 50%;\n",
              "    cursor: pointer;\n",
              "    display: none;\n",
              "    fill: var(--fill-color);\n",
              "    height: 32px;\n",
              "    padding: 0;\n",
              "    width: 32px;\n",
              "  }\n",
              "\n",
              "  .colab-df-quickchart:hover {\n",
              "    background-color: var(--hover-bg-color);\n",
              "    box-shadow: 0 1px 2px rgba(60, 64, 67, 0.3), 0 1px 3px 1px rgba(60, 64, 67, 0.15);\n",
              "    fill: var(--button-hover-fill-color);\n",
              "  }\n",
              "\n",
              "  .colab-df-quickchart-complete:disabled,\n",
              "  .colab-df-quickchart-complete:disabled:hover {\n",
              "    background-color: var(--disabled-bg-color);\n",
              "    fill: var(--disabled-fill-color);\n",
              "    box-shadow: none;\n",
              "  }\n",
              "\n",
              "  .colab-df-spinner {\n",
              "    border: 2px solid var(--fill-color);\n",
              "    border-color: transparent;\n",
              "    border-bottom-color: var(--fill-color);\n",
              "    animation:\n",
              "      spin 1s steps(1) infinite;\n",
              "  }\n",
              "\n",
              "  @keyframes spin {\n",
              "    0% {\n",
              "      border-color: transparent;\n",
              "      border-bottom-color: var(--fill-color);\n",
              "      border-left-color: var(--fill-color);\n",
              "    }\n",
              "    20% {\n",
              "      border-color: transparent;\n",
              "      border-left-color: var(--fill-color);\n",
              "      border-top-color: var(--fill-color);\n",
              "    }\n",
              "    30% {\n",
              "      border-color: transparent;\n",
              "      border-left-color: var(--fill-color);\n",
              "      border-top-color: var(--fill-color);\n",
              "      border-right-color: var(--fill-color);\n",
              "    }\n",
              "    40% {\n",
              "      border-color: transparent;\n",
              "      border-right-color: var(--fill-color);\n",
              "      border-top-color: var(--fill-color);\n",
              "    }\n",
              "    60% {\n",
              "      border-color: transparent;\n",
              "      border-right-color: var(--fill-color);\n",
              "    }\n",
              "    80% {\n",
              "      border-color: transparent;\n",
              "      border-right-color: var(--fill-color);\n",
              "      border-bottom-color: var(--fill-color);\n",
              "    }\n",
              "    90% {\n",
              "      border-color: transparent;\n",
              "      border-bottom-color: var(--fill-color);\n",
              "    }\n",
              "  }\n",
              "</style>\n",
              "\n",
              "      <script>\n",
              "        async function quickchart(key) {\n",
              "          const quickchartButtonEl =\n",
              "            document.querySelector('#' + key + ' button');\n",
              "          quickchartButtonEl.disabled = true;  // To prevent multiple clicks.\n",
              "          quickchartButtonEl.classList.add('colab-df-spinner');\n",
              "          try {\n",
              "            const charts = await google.colab.kernel.invokeFunction(\n",
              "                'suggestCharts', [key], {});\n",
              "          } catch (error) {\n",
              "            console.error('Error during call to suggestCharts:', error);\n",
              "          }\n",
              "          quickchartButtonEl.classList.remove('colab-df-spinner');\n",
              "          quickchartButtonEl.classList.add('colab-df-quickchart-complete');\n",
              "        }\n",
              "        (() => {\n",
              "          let quickchartButtonEl =\n",
              "            document.querySelector('#df-cf542e53-9e69-4193-9038-7d69263c1eda button');\n",
              "          quickchartButtonEl.style.display =\n",
              "            google.colab.kernel.accessAllowed ? 'block' : 'none';\n",
              "        })();\n",
              "      </script>\n",
              "    </div>\n",
              "\n",
              "    </div>\n",
              "  </div>\n"
            ],
            "text/plain": [
              "     koi_disposition kepoi_name   kepler_name\n",
              "0          CONFIRMED  K00752.01  Kepler-227 b\n",
              "1          CONFIRMED  K00752.02  Kepler-227 c\n",
              "2          CANDIDATE  K00753.01           NaN\n",
              "3     FALSE POSITIVE  K00754.01           NaN\n",
              "4          CONFIRMED  K00755.01  Kepler-664 b\n",
              "...              ...        ...           ...\n",
              "9559  FALSE POSITIVE  K07985.01           NaN\n",
              "9560       CANDIDATE  K07986.01           NaN\n",
              "9561  FALSE POSITIVE  K07987.01           NaN\n",
              "9562       CANDIDATE  K07988.01           NaN\n",
              "9563  FALSE POSITIVE  K07989.01           NaN\n",
              "\n",
              "[9564 rows x 3 columns]"
            ]
          },
          "execution_count": 210,
          "metadata": {},
          "output_type": "execute_result"
        }
      ],
      "source": [
        "df[df.select_dtypes(include='object').columns]"
      ]
    },
    {
      "cell_type": "code",
      "execution_count": null,
      "metadata": {
        "colab": {
          "base_uri": "https://localhost:8080/"
        },
        "id": "33S5HY5SSEIv",
        "outputId": "c8944795-a0c0-46ca-e437-6a84a4e28f0b"
      },
      "outputs": [
        {
          "data": {
            "text/plain": [
              "<Axes: xlabel='count', ylabel='koi_disposition'>"
            ]
          },
          "execution_count": 211,
          "metadata": {},
          "output_type": "execute_result"
        },
        {
          "data": {
            "image/png": "[encoded data removed]",
            "text/plain": [
              "<Figure size 640x480 with 1 Axes>"
            ]
          },
          "metadata": {},
          "output_type": "display_data"
        }
      ],
      "source": [
        "sns.countplot(data=df, y='koi_disposition', hue='koi_disposition')"
      ]
    },
    {
      "cell_type": "code",
      "execution_count": null,
      "metadata": {
        "id": "aybc7TByXa37"
      },
      "outputs": [],
      "source": [
        "# Downcasting type\n",
        "num_col, float_col = df.select_dtypes(include=np.int64).columns.to_list(), df.select_dtypes(include=np.float64).columns.to_list()\n",
        "\n",
        "df[num_col] = df[num_col].apply(pd.to_numeric, downcast=\"integer\")\n",
        "df[float_col] = df[float_col].apply(pd.to_numeric, downcast=\"float\")"
      ]
    },
    {
      "cell_type": "code",
      "execution_count": null,
      "metadata": {
        "colab": {
          "base_uri": "https://localhost:8080/"
        },
        "id": "cdW40X7f40w2",
        "outputId": "ccd714c9-f180-46a5-9f69-63ba7336f402"
      },
      "outputs": [
        {
          "name": "stdout",
          "output_type": "stream",
          "text": [
            "<class 'pandas.core.frame.DataFrame'>\n",
            "RangeIndex: 9564 entries, 0 to 9563\n",
            "Data columns (total 35 columns):\n",
            " #   Column            Non-Null Count  Dtype  \n",
            "---  ------            --------------  -----  \n",
            " 0   koi_disposition   9564 non-null   object \n",
            " 1   koi_score         8054 non-null   float32\n",
            " 2   koi_period        9564 non-null   float64\n",
            " 3   koi_eccen         9201 non-null   float32\n",
            " 4   koi_impact        9201 non-null   float32\n",
            " 5   koi_duration      9564 non-null   float32\n",
            " 6   koi_depth         9201 non-null   float32\n",
            " 7   koi_prad          9201 non-null   float64\n",
            " 8   koi_teq           9201 non-null   float32\n",
            " 9   koi_max_sngle_ev  8422 non-null   float32\n",
            " 10  koi_max_mult_ev   8422 non-null   float64\n",
            " 11  koi_model_snr     9201 non-null   float32\n",
            " 12  koi_count         9564 non-null   int8   \n",
            " 13  koi_num_transits  8422 non-null   float32\n",
            " 14  koi_bin_oedp_sig  8054 non-null   float32\n",
            " 15  koi_model_chisq   0 non-null      float32\n",
            " 16  koi_steff         9201 non-null   float32\n",
            " 17  koi_slogg         9201 non-null   float32\n",
            " 18  koi_srad          9201 non-null   float32\n",
            " 19  koi_smass         9201 non-null   float32\n",
            " 20  koi_kepmag        9563 non-null   float32\n",
            " 21  koi_gmag          9523 non-null   float32\n",
            " 22  koi_rmag          9555 non-null   float32\n",
            " 23  koi_jmag          9539 non-null   float32\n",
            " 24  koi_kmag          9539 non-null   float32\n",
            " 25  koi_fwm_stat_sig  8488 non-null   float32\n",
            " 26  koi_fwm_prao      8734 non-null   float32\n",
            " 27  koi_fwm_pdeco     8747 non-null   float32\n",
            " 28  koi_dicco_mra     8965 non-null   float32\n",
            " 29  koi_dicco_msky    8965 non-null   float32\n",
            " 30  koi_dikco_mra     8994 non-null   float32\n",
            " 31  koi_dikco_msky    8994 non-null   float32\n",
            " 32  kepid             9564 non-null   int32  \n",
            " 33  kepoi_name        9564 non-null   object \n",
            " 34  kepler_name       2747 non-null   object \n",
            "dtypes: float32(27), float64(3), int32(1), int8(1), object(3)\n",
            "memory usage: 1.5+ MB\n"
          ]
        }
      ],
      "source": [
        "df.info()"
      ]
    },
    {
      "cell_type": "code",
      "execution_count": null,
      "metadata": {
        "id": "iHxWaIuzdmqz"
      },
      "outputs": [],
      "source": [
        "string_columns: list[str] = df.select_dtypes(include=\"object\").columns.to_list()\n",
        "numerical_columns: list[str] = df.select_dtypes(include=\"number\").columns.to_list()"
      ]
    },
    {
      "cell_type": "code",
      "execution_count": null,
      "metadata": {
        "id": "L20mqy7Unxxv"
      },
      "outputs": [],
      "source": [
        "if 'koi_model_chisq' in numerical_columns:\n",
        "  numerical_columns.remove('koi_model_chisq')\n",
        "  df.drop('koi_model_chisq', axis=1, inplace=True)"
      ]
    },
    {
      "cell_type": "code",
      "execution_count": null,
      "metadata": {
        "id": "PZQHZ9ZlhEJb"
      },
      "outputs": [],
      "source": [
        "#9564\n",
        "null_percentage: dict[str, str] = {}\n",
        "null_dict: dict[str, int] = df.isna().sum().to_dict()\n",
        "for index, value in null_dict.items():\n",
        "  null_percentage[index] = str(round(abs((1 -((9564-null_dict[index])/9564)) * 100))) + '%'"
      ]
    },
    {
      "cell_type": "code",
      "execution_count": null,
      "metadata": {
        "colab": {
          "base_uri": "https://localhost:8080/"
        },
        "id": "GsrbUtX3mzm5",
        "outputId": "283b6779-b68b-4ce3-8ea6-2843a9573b30"
      },
      "outputs": [
        {
          "data": {
            "text/plain": [
              "{'koi_disposition': '0%',\n",
              " 'koi_score': '16%',\n",
              " 'koi_period': '0%',\n",
              " 'koi_eccen': '4%',\n",
              " 'koi_impact': '4%',\n",
              " 'koi_duration': '0%',\n",
              " 'koi_depth': '4%',\n",
              " 'koi_prad': '4%',\n",
              " 'koi_teq': '4%',\n",
              " 'koi_max_sngle_ev': '12%',\n",
              " 'koi_max_mult_ev': '12%',\n",
              " 'koi_model_snr': '4%',\n",
              " 'koi_count': '0%',\n",
              " 'koi_num_transits': '12%',\n",
              " 'koi_bin_oedp_sig': '16%',\n",
              " 'koi_steff': '4%',\n",
              " 'koi_slogg': '4%',\n",
              " 'koi_srad': '4%',\n",
              " 'koi_smass': '4%',\n",
              " 'koi_kepmag': '0%',\n",
              " 'koi_gmag': '0%',\n",
              " 'koi_rmag': '0%',\n",
              " 'koi_jmag': '0%',\n",
              " 'koi_kmag': '0%',\n",
              " 'koi_fwm_stat_sig': '11%',\n",
              " 'koi_fwm_prao': '9%',\n",
              " 'koi_fwm_pdeco': '9%',\n",
              " 'koi_dicco_mra': '6%',\n",
              " 'koi_dicco_msky': '6%',\n",
              " 'koi_dikco_mra': '6%',\n",
              " 'koi_dikco_msky': '6%',\n",
              " 'kepid': '0%',\n",
              " 'kepoi_name': '0%',\n",
              " 'kepler_name': '71%'}"
            ]
          },
          "execution_count": 217,
          "metadata": {},
          "output_type": "execute_result"
        }
      ],
      "source": [
        "null_percentage"
      ]
    },
    {
      "cell_type": "code",
      "execution_count": null,
      "metadata": {
        "colab": {
          "base_uri": "https://localhost:8080/"
        },
        "id": "0dSZoN4eI27T",
        "outputId": "4e6481cb-33a2-4cbb-92b9-bb895317906b"
      },
      "outputs": [
        {
          "data": {
            "text/plain": [
              "Index(['koi_disposition', 'koi_score', 'koi_period', 'koi_eccen', 'koi_impact',\n",
              "       'koi_duration', 'koi_depth', 'koi_prad', 'koi_teq', 'koi_max_sngle_ev',\n",
              "       'koi_max_mult_ev', 'koi_model_snr', 'koi_count', 'koi_num_transits',\n",
              "       'koi_bin_oedp_sig', 'koi_steff', 'koi_slogg', 'koi_srad', 'koi_smass',\n",
              "       'koi_kepmag', 'koi_gmag', 'koi_rmag', 'koi_jmag', 'koi_kmag',\n",
              "       'koi_fwm_stat_sig', 'koi_fwm_prao', 'koi_fwm_pdeco', 'koi_dicco_mra',\n",
              "       'koi_dicco_msky', 'koi_dikco_mra', 'koi_dikco_msky', 'kepid',\n",
              "       'kepoi_name', 'kepler_name'],\n",
              "      dtype='object')"
            ]
          },
          "execution_count": 218,
          "metadata": {},
          "output_type": "execute_result"
        }
      ],
      "source": [
        "  df.columns"
      ]
    },
    {
      "cell_type": "markdown",
      "metadata": {
        "id": "K8GR5YNIxizJ"
      },
      "source": [
        "# Data splitting"
      ]
    },
    {
      "cell_type": "code",
      "execution_count": null,
      "metadata": {
        "colab": {
          "base_uri": "https://localhost:8080/"
        },
        "id": "hR6qUO5ueGK6",
        "outputId": "828e7b7d-0e01-4f2c-f51c-d3928a60f93d"
      },
      "outputs": [
        {
          "data": {
            "text/plain": [
              "['kepid', 'kepoi_name', 'kepler_name']"
            ]
          },
          "execution_count": 220,
          "metadata": {},
          "output_type": "execute_result"
        }
      ],
      "source": [
        "identification_columns"
      ]
    },
    {
      "cell_type": "code",
      "execution_count": null,
      "metadata": {
        "id": "5IIzlzyC7F8O"
      },
      "outputs": [],
      "source": [
        "X = df.drop(identification_columns, axis=1)\n",
        "X = X.drop('koi_disposition', axis=1)\n",
        "ids = df[identification_columns]\n",
        "y = df['koi_disposition']"
      ]
    },
    {
      "cell_type": "code",
      "execution_count": null,
      "metadata": {
        "id": "uCdgUAsYTF6T"
      },
      "outputs": [],
      "source": [
        "X_train_val, X_test, y_train_val, y_test = train_test_split(X, y, test_size=0.25,  random_state=42, stratify=y)"
      ]
    },
    {
      "cell_type": "code",
      "execution_count": null,
      "metadata": {
        "id": "GTFz8OKhWUcV"
      },
      "outputs": [],
      "source": [
        "# Has only zeros\n",
        "# X_train_val.drop('koi_eccen', axis=1, inplace=True)\n",
        "# X_test.drop('koi_eccen', axis=1, inplace=True)\n",
        "X.drop('koi_eccen', axis=1, inplace=True)"
      ]
    },
    {
      "cell_type": "code",
      "execution_count": null,
      "metadata": {
        "id": "XLwv-fQrUSr8"
      },
      "outputs": [],
      "source": [
        "split_features: dict[str, dict[str, Any]] = {}\n",
        "\n",
        "for i in X_train_val.columns.to_list():\n",
        "  split_features[i] = {\n",
        "      'mean': X_train_val[i].mean(),\n",
        "      'std': X_train_val[i].std(),\n",
        "      'median': X_train_val[i].median(),\n",
        "      'min': X_train_val[i].min(),\n",
        "      'max': X_train_val[i].max(),\n",
        "  }\n",
        "\n",
        "split_features_df = pd.DataFrame(split_features).T"
      ]
    },
    {
      "cell_type": "code",
      "execution_count": null,
      "metadata": {
        "colab": {
          "base_uri": "https://localhost:8080/"
        },
        "id": "ACl97VIo-YlV",
        "outputId": "0d202513-9983-445d-f94f-080320887108"
      },
      "outputs": [
        {
          "data": {
            "text/plain": [
              "['SplitTrain.pkl']"
            ]
          },
          "execution_count": 225,
          "metadata": {},
          "output_type": "execute_result"
        }
      ],
      "source": [
        "split_features_df\n",
        "joblib.dump(split_features_df, 'SplitTrain.pkl')"
      ]
    },
    {
      "cell_type": "code",
      "execution_count": null,
      "metadata": {
        "id": "A0HOahgFJP8V"
      },
      "outputs": [],
      "source": [
        "X_train, X_val, y_train, y_val = train_test_split(X_train_val, y_train_val, test_size=0.15, random_state=42, stratify=y_train_val)"
      ]
    },
    {
      "cell_type": "markdown",
      "metadata": {
        "id": "cNBjfvCtKjad"
      },
      "source": [
        "# Data Preprocessing"
      ]
    },
    {
      "cell_type": "code",
      "execution_count": null,
      "metadata": {
        "colab": {
          "base_uri": "https://localhost:8080/"
        },
        "id": "RO3DUbwJP70-",
        "outputId": "ea6eaae5-4648-4e58-8e3c-cb4743bde1eb"
      },
      "outputs": [
        {
          "name": "stdout",
          "output_type": "stream",
          "text": [
            "Class mapping: {'CANDIDATE': np.int64(0), 'CONFIRMED': np.int64(1), 'FALSE POSITIVE': np.int64(2)}\n",
            "\n",
            "Class distribution:\n",
            "0    1261\n",
            "1    1751\n",
            "2    3085\n",
            "Name: count, dtype: int64\n"
          ]
        },
        {
          "data": {
            "text/plain": [
              "['LabelEncoding.pkl']"
            ]
          },
          "execution_count": 227,
          "metadata": {},
          "output_type": "execute_result"
        }
      ],
      "source": [
        "le = LabelEncoder()\n",
        "y_train = le.fit_transform(y_train)\n",
        "y_val = le.transform(y_val)\n",
        "y_test = le.transform(y_test)\n",
        "print(f\"Class mapping: {dict(zip(le.classes_, le.transform(le.classes_)))}\")\n",
        "print(f\"\\nClass distribution:\\n{pd.Series(y_train).value_counts().sort_index()}\")\n",
        "\n",
        "joblib.dump(le, 'LabelEncoding.pkl')"
      ]
    },
    {
      "cell_type": "code",
      "execution_count": null,
      "metadata": {
        "colab": {
          "base_uri": "https://localhost:8080/"
        },
        "id": "248i-dGvP-Pz",
        "outputId": "3bb7f8b3-2566-4780-8385-3dfb45961d67"
      },
      "outputs": [
        {
          "data": {
            "text/plain": [
              "['Pipe.pkl']"
            ]
          },
          "execution_count": 228,
          "metadata": {},
          "output_type": "execute_result"
        }
      ],
      "source": [
        "preprocessing_pipeline: Pipeline = Pipeline([\n",
        "    ('imputer', KNNImputer()),\n",
        "    ('scaler', RobustScaler()),\n",
        "    ('selector', SelectKBest(score_func=f_classif, k=25)),\n",
        "])\n",
        "\n",
        "joblib.dump(preprocessing_pipeline, 'Pipe.pkl')"
      ]
    },
    {
      "cell_type": "code",
      "execution_count": null,
      "metadata": {
        "colab": {
          "base_uri": "https://localhost:8080/"
        },
        "id": "GG_YT58XZY4B",
        "outputId": "6bfd8f20-2839-478f-f152-67d65e5773b9"
      },
      "outputs": [
        {
          "name": "stderr",
          "output_type": "stream",
          "text": [
            "/usr/local/lib/python3.12/dist-packages/sklearn/feature_selection/_univariate_selection.py:111: UserWarning: Features [2] are constant.\n",
            "  warnings.warn(\"Features %s are constant.\" % constant_features_idx, UserWarning)\n",
            "/usr/local/lib/python3.12/dist-packages/sklearn/feature_selection/_univariate_selection.py:112: RuntimeWarning: invalid value encountered in divide\n",
            "  f = msb / msw\n"
          ]
        }
      ],
      "source": [
        "X_train = preprocessing_pipeline.fit_transform(X_train, y_train)\n",
        "X_val = preprocessing_pipeline.transform(X_val)\n",
        "X_test = preprocessing_pipeline.transform(X_test)"
      ]
    },
    {
      "cell_type": "code",
      "execution_count": null,
      "metadata": {
        "id": "k79g3QpUbRSu"
      },
      "outputs": [],
      "source": [
        "smote= SMOTE(sampling_strategy='auto', random_state=42, k_neighbors=5)\n",
        "X_train, y_train = smote.fit_resample(X_train, y_train) #type: ignore"
      ]
    },
    {
      "cell_type": "code",
      "execution_count": null,
      "metadata": {
        "colab": {
          "base_uri": "https://localhost:8080/"
        },
        "id": "6_LGu7Hp_Jfc",
        "outputId": "89ab29f2-e07d-4903-a039-6af6c5463e97"
      },
      "outputs": [
        {
          "data": {
            "text/plain": [
              "['train.pkl']"
            ]
          },
          "execution_count": 231,
          "metadata": {},
          "output_type": "execute_result"
        }
      ],
      "source": [
        "joblib.dump(X_train, 'train.pkl')"
      ]
    },
    {
      "cell_type": "code",
      "execution_count": null,
      "metadata": {
        "colab": {
          "base_uri": "https://localhost:8080/"
        },
        "id": "Qq5Jof3qZ0ad",
        "outputId": "dcd8e295-0ddd-408f-ab78-91aec517e0e4"
      },
      "outputs": [
        {
          "name": "stdout",
          "output_type": "stream",
          "text": [
            "Selected feature names: ['koi_score', 'koi_period', 'koi_impact', 'koi_duration', 'koi_depth', 'koi_prad', 'koi_teq', 'koi_max_sngle_ev', 'koi_max_mult_ev', 'koi_model_snr', 'koi_count', 'koi_num_transits', 'koi_bin_oedp_sig', 'koi_steff', 'koi_slogg', 'koi_srad', 'koi_smass', 'koi_kepmag', 'koi_gmag', 'koi_rmag', 'koi_jmag', 'koi_kmag', 'koi_fwm_stat_sig', 'koi_dicco_msky', 'koi_dikco_msky']\n"
          ]
        }
      ],
      "source": [
        "selected_mask = preprocessing_pipeline.named_steps['selector'].get_support()\n",
        "feature_scores = preprocessing_pipeline.named_steps['selector'].scores_\n",
        "\n",
        "selected_features = X.columns[selected_mask]\n",
        "\n",
        "print(\"Selected feature names:\", selected_features.tolist())"
      ]
    },
    {
      "cell_type": "code",
      "execution_count": null,
      "metadata": {
        "id": "LF4UKRW7fBWG"
      },
      "outputs": [],
      "source": [
        "X_train_tem = pd.DataFrame(X_train, columns=selected_features.tolist())"
      ]
    },
    {
      "cell_type": "code",
      "execution_count": null,
      "metadata": {
        "id": "JZMo33cWflma"
      },
      "outputs": [],
      "source": [
        "preprocess_stats: dict[str, dict[str, Any]] = {}\n",
        "for i in selected_features.tolist():\n",
        "  preprocess_stats[i] = {\n",
        "      'mean': X_train_tem[i].mean(),\n",
        "      'std': X_train_tem[i].std(),\n",
        "      'median': X_train_tem[i].median(),\n",
        "      'min': X_train_tem[i].min(),\n",
        "      'max': X_train_tem[i].max(),\n",
        "  }"
      ]
    },
    {
      "cell_type": "code",
      "execution_count": null,
      "metadata": {
        "colab": {
          "base_uri": "https://localhost:8080/"
        },
        "id": "FuUoq0-0f4oT",
        "outputId": "d9f17b14-3105-4ffd-e76a-41615d36dfb2"
      },
      "outputs": [
        {
          "data": {
            "text/plain": [
              "['Final_Stats.pkl']"
            ]
          },
          "execution_count": 157,
          "metadata": {},
          "output_type": "execute_result"
        }
      ],
      "source": [
        "joblib.dump(pd.DataFrame(preprocess_stats).T, \"Final_Stats.pkl\")"
      ]
    },
    {
      "cell_type": "code",
      "execution_count": null,
      "metadata": {
        "colab": {
          "base_uri": "https://localhost:8080/"
        },
        "id": "SqgKedkweyWT",
        "outputId": "3337e6d8-2f9f-4d83-a14f-2f44772f181c"
      },
      "outputs": [
        {
          "data": {
            "text/plain": [
              "((9255, 25), (9564, 29))"
            ]
          },
          "execution_count": 136,
          "metadata": {},
          "output_type": "execute_result"
        }
      ],
      "source": [
        "X_train.shape, X.shape"
      ]
    },
    {
      "cell_type": "markdown",
      "metadata": {
        "id": "00R6-ducSM1q"
      },
      "source": [
        "# Hyperparameter training"
      ]
    },
    {
      "cell_type": "code",
      "execution_count": null,
      "metadata": {
        "id": "Zanr4EzRSO7a"
      },
      "outputs": [],
      "source": [
        "# Defining models"
      ]
    },
    {
      "cell_type": "code",
      "execution_count": null,
      "metadata": {
        "id": "8LcgIqTLUXe5"
      },
      "outputs": [],
      "source": [
        "from typing import Any\n",
        "models: dict[str, Any] = {\n",
        "    'XGBoost': XGBClassifier(random_state=42, eval_metric='mlogloss'),\n",
        "    'LightGBM': LGBMClassifier(random_state=42, verbose=-1),\n",
        "    'CatBoost': CatBoostClassifier(random_state=42, verbose=0)\n",
        "}\n",
        "\n",
        "param_grids: dict[str, dict[str, list[int | Any]]] = {\n",
        "    'XGBoost': {\n",
        "        'n_estimators': [100, 200, 300],\n",
        "        'max_depth': [3, 5, 7],\n",
        "        'learning_rate': [0.01, 0.1, 0.3],\n",
        "        'subsample': [0.8, 1.0],\n",
        "        'colsample_bytree': [0.8, 1.0]\n",
        "    },\n",
        "    'LightGBM': {\n",
        "        'n_estimators': [100, 200, 300],\n",
        "        'max_depth': [3, 5, 7],\n",
        "        'learning_rate': [0.01, 0.1, 0.3],\n",
        "        'num_leaves': [31, 50, 70],\n",
        "        'subsample': [0.8, 1.0]\n",
        "    },\n",
        "    'CatBoost': {\n",
        "        'iterations': [100, 200, 300],\n",
        "        'depth': [3, 5, 7],\n",
        "        'learning_rate': [0.01, 0.1, 0.3],\n",
        "        'l2_leaf_reg': [1, 3, 5]\n",
        "    }\n",
        "  }"
      ]
    },
    {
      "cell_type": "code",
      "execution_count": null,
      "metadata": {
        "id": "WDoZh_XqXTcP"
      },
      "outputs": [],
      "source": [
        "results: dict[str, dict[str, Any]] = {}"
      ]
    },
    {
      "cell_type": "code",
      "execution_count": null,
      "metadata": {
        "colab": {
          "base_uri": "https://localhost:8080/"
        },
        "id": "r--C5AIgWv7I",
        "outputId": "01d030d5-93ad-47ae-8741-af4aa7fe4db3"
      },
      "outputs": [
        {
          "name": "stdout",
          "output_type": "stream",
          "text": [
            "Running XGBoost\n",
            "Fitting 6 folds for each of 108 candidates, totalling 648 fits\n",
            "Running LightGBM\n",
            "Fitting 6 folds for each of 162 candidates, totalling 972 fits\n",
            "Running CatBoost\n",
            "Fitting 6 folds for each of 81 candidates, totalling 486 fits\n"
          ]
        }
      ],
      "source": [
        "for name, definition in models.items():\n",
        "  print(f\"Running {name}\")\n",
        "  grid_search = GridSearchCV(\n",
        "      estimator=definition,\n",
        "      param_grid=param_grids[name],\n",
        "      cv=6,\n",
        "      scoring='accuracy',\n",
        "      n_jobs=-1,\n",
        "      verbose=1\n",
        "  )\n",
        "  grid_search.fit(X_train, y_train)\n",
        "  results[name] = {\n",
        "    'best_params': grid_search.best_params_,\n",
        "    'best_cv_score': grid_search.best_score_,\n",
        "    'best_model': grid_search.best_estimator_\n",
        "}"
      ]
    },
    {
      "cell_type": "code",
      "execution_count": null,
      "metadata": {
        "colab": {
          "base_uri": "https://localhost:8080/"
        },
        "id": "AM_ClGcf9jv2",
        "outputId": "1655a4ae-b8f3-4c43-caf8-f1876fd91ffd"
      },
      "outputs": [
        {
          "data": {
            "text/plain": [
              "{'XGBoost': {'best_params': {'colsample_bytree': 1.0,\n",
              "   'learning_rate': 0.3,\n",
              "   'max_depth': 7,\n",
              "   'n_estimators': 300,\n",
              "   'subsample': 0.8},\n",
              "  'best_cv_score': np.float64(0.915299321174606),\n",
              "  'best_model': XGBClassifier(base_score=None, booster=None, callbacks=None,\n",
              "                colsample_bylevel=None, colsample_bynode=None,\n",
              "                colsample_bytree=1.0, device=None, early_stopping_rounds=None,\n",
              "                enable_categorical=False, eval_metric='mlogloss',\n",
              "                feature_types=None, feature_weights=None, gamma=None,\n",
              "                grow_policy=None, importance_type=None,\n",
              "                interaction_constraints=None, learning_rate=0.3, max_bin=None,\n",
              "                max_cat_threshold=None, max_cat_to_onehot=None,\n",
              "                max_delta_step=None, max_depth=7, max_leaves=None,\n",
              "                min_child_weight=None, missing=nan, monotone_constraints=None,\n",
              "                multi_strategy=None, n_estimators=300, n_jobs=None,\n",
              "                num_parallel_tree=None, ...)},\n",
              " 'LightGBM': {'best_params': {'learning_rate': 0.3,\n",
              "   'max_depth': 7,\n",
              "   'n_estimators': 200,\n",
              "   'num_leaves': 50,\n",
              "   'subsample': 0.8},\n",
              "  'best_cv_score': np.float64(0.916703652241452),\n",
              "  'best_model': LGBMClassifier(learning_rate=0.3, max_depth=7, n_estimators=200, num_leaves=50,\n",
              "                 random_state=42, subsample=0.8, verbose=-1)},\n",
              " 'CatBoost': {'best_params': {'depth': 7,\n",
              "   'iterations': 300,\n",
              "   'l2_leaf_reg': 1,\n",
              "   'learning_rate': 0.3},\n",
              "  'best_cv_score': np.float64(0.907627896537898),\n",
              "  'best_model': <catboost.core.CatBoostClassifier at 0x7d7c73c733b0>}}"
            ]
          },
          "execution_count": 168,
          "metadata": {},
          "output_type": "execute_result"
        }
      ],
      "source": [
        "results"
      ]
    },
    {
      "cell_type": "code",
      "execution_count": null,
      "metadata": {
        "colab": {
          "base_uri": "https://localhost:8080/"
        },
        "id": "kqMNAW89QApD",
        "outputId": "4dec614a-8c12-4d6a-f498-b174aa2104ee"
      },
      "outputs": [
        {
          "data": {
            "text/plain": [
              "['results_dict.pkl']"
            ]
          },
          "execution_count": 161,
          "metadata": {},
          "output_type": "execute_result"
        }
      ],
      "source": [
        "joblib.dump(results, 'results_dict.pkl')"
      ]
    },
    {
      "cell_type": "code",
      "execution_count": null,
      "metadata": {
        "colab": {
          "base_uri": "https://localhost:8080/"
        },
        "id": "fLCapvtXcgja",
        "outputId": "ecccd65f-d796-49dd-a42d-1d1475af3fd8"
      },
      "outputs": [
        {
          "data": {
            "text/plain": [
              "{'XGBoost': {'best_params': {'colsample_bytree': 1.0,\n",
              "   'learning_rate': 0.3,\n",
              "   'max_depth': 7,\n",
              "   'n_estimators': 300,\n",
              "   'subsample': 0.8},\n",
              "  'best_cv_score': np.float64(0.915299321174606),\n",
              "  'best_model': XGBClassifier(base_score=None, booster=None, callbacks=None,\n",
              "                colsample_bylevel=None, colsample_bynode=None,\n",
              "                colsample_bytree=1.0, device=None, early_stopping_rounds=None,\n",
              "                enable_categorical=False, eval_metric='mlogloss',\n",
              "                feature_types=None, feature_weights=None, gamma=None,\n",
              "                grow_policy=None, importance_type=None,\n",
              "                interaction_constraints=None, learning_rate=0.3, max_bin=None,\n",
              "                max_cat_threshold=None, max_cat_to_onehot=None,\n",
              "                max_delta_step=None, max_depth=7, max_leaves=None,\n",
              "                min_child_weight=None, missing=nan, monotone_constraints=None,\n",
              "                multi_strategy=None, n_estimators=300, n_jobs=None,\n",
              "                num_parallel_tree=None, ...)},\n",
              " 'LightGBM': {'best_params': {'learning_rate': 0.3,\n",
              "   'max_depth': 7,\n",
              "   'n_estimators': 200,\n",
              "   'num_leaves': 50,\n",
              "   'subsample': 0.8},\n",
              "  'best_cv_score': np.float64(0.916703652241452),\n",
              "  'best_model': LGBMClassifier(learning_rate=0.3, max_depth=7, n_estimators=200, num_leaves=50,\n",
              "                 random_state=42, subsample=0.8, verbose=-1)},\n",
              " 'CatBoost': {'best_params': {'depth': 7,\n",
              "   'iterations': 300,\n",
              "   'l2_leaf_reg': 1,\n",
              "   'learning_rate': 0.3},\n",
              "  'best_cv_score': np.float64(0.907627896537898),\n",
              "  'best_model': <catboost.core.CatBoostClassifier at 0x7d7c73c733b0>}}"
            ]
          },
          "execution_count": 162,
          "metadata": {},
          "output_type": "execute_result"
        }
      ],
      "source": [
        "results"
      ]
    },
    {
      "cell_type": "markdown",
      "metadata": {
        "id": "QwQfv10KwGT5"
      },
      "source": [
        "# Model training"
      ]
    },
    {
      "cell_type": "code",
      "execution_count": null,
      "metadata": {
        "id": "6v7dfZbLum2l"
      },
      "outputs": [],
      "source": [
        "metrics: dict[str, dict[str, Any]] = {}"
      ]
    },
    {
      "cell_type": "code",
      "execution_count": null,
      "metadata": {
        "id": "jVR5dE5JrcFx"
      },
      "outputs": [],
      "source": [
        "X_train_val = np.concatenate([X_train, X_val], axis=0)\n",
        "y_train_val = np.concatenate([y_train, y_val], axis=0)\n",
        "\n",
        "lgbm = LGBMClassifier(**results['LightGBM']['best_params'])\n",
        "lgbm.fit(X_train_val, y_train_val)\n",
        "y_test_pred = lgbm.predict(X_test)\n",
        "metrics['LightGBM'] = {\n",
        "    'accuracy': accuracy_score(y_test, y_test_pred),\n",
        "    'precision': precision_score(y_test, y_test_pred, average='weighted'),\n",
        "    'recall': recall_score(y_test, y_test_pred, average='weighted'),\n",
        "    'f1_score': f1_score(y_test, y_test_pred, average='weighted'),\n",
        "    'confusion_matrix': confusion_matrix(y_test, y_test_pred),\n",
        "    'classification_report': classification_report(y_test, y_test_pred)\n",
        "}\n",
        "\n",
        "xgbm = XGBClassifier(**results['XGBoost']['best_params'])\n",
        "xgbm.fit(X_train_val, y_train_val)\n",
        "y_test_pred = xgbm.predict(X_test)\n",
        "metrics['XGBoost'] = {\n",
        "    'accuracy': accuracy_score(y_test, y_test_pred),\n",
        "    'precision': precision_score(y_test, y_test_pred, average='weighted'),\n",
        "    'recall': recall_score(y_test, y_test_pred, average='weighted'),\n",
        "    'f1_score': f1_score(y_test, y_test_pred, average='weighted'),\n",
        "    'confusion_matrix': confusion_matrix(y_test, y_test_pred),\n",
        "    'classification_report': classification_report(y_test, y_test_pred)\n",
        "}\n",
        "\n",
        "cbm = CatBoostClassifier(**results['CatBoost']['best_params'])\n",
        "cbm.fit(X_train_val, y_train_val)\n",
        "y_test_pred = cbm.predict(X_test)\n",
        "metrics['CatBoost'] = {\n",
        "    'accuracy': accuracy_score(y_test, y_test_pred),\n",
        "    'precision': precision_score(y_test, y_test_pred, average='weighted'),\n",
        "    'recall': recall_score(y_test, y_test_pred, average='weighted'),\n",
        "    'f1_score': f1_score(y_test, y_test_pred, average='weighted'),\n",
        "    'confusion_matrix': confusion_matrix(y_test, y_test_pred),\n",
        "    'classification_report': classification_report(y_test, y_test_pred)\n",
        "}\n",
        "\n",
        "vc = VotingClassifier(\n",
        "    estimators=[\n",
        "        ('xgb', xgbm),\n",
        "        ('lgbm', lgbm),\n",
        "        ('cat', cbm)\n",
        "    ],\n",
        "    voting='soft'\n",
        ")\n",
        "vc.fit(X_train_val, y_train_val)\n",
        "y_test_pred = vc.predict(X_test)\n",
        "metrics['Voting'] = {\n",
        "    'accuracy': accuracy_score(y_test, y_test_pred),\n",
        "    'precision': precision_score(y_test, y_test_pred, average='weighted'),\n",
        "    'recall': recall_score(y_test, y_test_pred, average='weighted'),\n",
        "    'f1_score': f1_score(y_test, y_test_pred, average='weighted'),\n",
        "    'confusion_matrix': confusion_matrix(y_test, y_test_pred),\n",
        "    'classification_report': classification_report(y_test, y_test_pred)\n",
        "}"
      ]
    },
    {
      "cell_type": "code",
      "execution_count": null,
      "metadata": {
        "id": "vOnV2khtv2aO"
      },
      "outputs": [],
      "source": [
        "metrics_df: pd.DataFrame = pd.DataFrame(metrics).T"
      ]
    },
    {
      "cell_type": "code",
      "execution_count": null,
      "metadata": {
        "colab": {
          "base_uri": "https://localhost:8080/",
          "height": 175
        },
        "id": "_CBFBy7qbbP7",
        "outputId": "a4cff074-cd2e-4bfe-a463-e74a9dfe14df"
      },
      "outputs": [
        {
          "data": {
            "application/vnd.google.colaboratory.intrinsic+json": {
              "summary": "{\n  \"name\": \"metrics_df\",\n  \"rows\": 4,\n  \"fields\": [\n    {\n      \"column\": \"accuracy\",\n      \"properties\": {\n        \"dtype\": \"date\",\n        \"min\": 0.849853617733166,\n        \"max\": 0.8594730238393977,\n        \"num_unique_values\": 4,\n        \"samples\": [\n          0.849853617733166,\n          0.8578000836470097,\n          0.8594730238393977\n        ],\n        \"semantic_type\": \"\",\n        \"description\": \"\"\n      }\n    },\n    {\n      \"column\": \"precision\",\n      \"properties\": {\n        \"dtype\": \"date\",\n        \"min\": 0.8490125532745618,\n        \"max\": 0.8573228129406714,\n        \"num_unique_values\": 4,\n        \"samples\": [\n          0.8490125532745618,\n          0.8551958913870806,\n          0.8573228129406714\n        ],\n        \"semantic_type\": \"\",\n        \"description\": \"\"\n      }\n    },\n    {\n      \"column\": \"recall\",\n      \"properties\": {\n        \"dtype\": \"date\",\n        \"min\": 0.849853617733166,\n        \"max\": 0.8594730238393977,\n        \"num_unique_values\": 4,\n        \"samples\": [\n          0.849853617733166,\n          0.8578000836470097,\n          0.8594730238393977\n        ],\n        \"semantic_type\": \"\",\n        \"description\": \"\"\n      }\n    },\n    {\n      \"column\": \"f1_score\",\n      \"properties\": {\n        \"dtype\": \"date\",\n        \"min\": 0.849419161950996,\n        \"max\": 0.8582220944256226,\n        \"num_unique_values\": 4,\n        \"samples\": [\n          0.849419161950996,\n          0.8563009204897483,\n          0.8582220944256226\n        ],\n        \"semantic_type\": \"\",\n        \"description\": \"\"\n      }\n    },\n    {\n      \"column\": \"confusion_matrix\",\n      \"properties\": {\n        \"dtype\": \"object\",\n        \"semantic_type\": \"\",\n        \"description\": \"\"\n      }\n    },\n    {\n      \"column\": \"classification_report\",\n      \"properties\": {\n        \"dtype\": \"string\",\n        \"num_unique_values\": 4,\n        \"samples\": [\n          \"              precision    recall  f1-score   support\\n\\n           0       0.66      0.64      0.65       495\\n           1       0.89      0.89      0.89       686\\n           2       0.91      0.91      0.91      1210\\n\\n    accuracy                           0.85      2391\\n   macro avg       0.82      0.81      0.82      2391\\nweighted avg       0.85      0.85      0.85      2391\\n\",\n          \"              precision    recall  f1-score   support\\n\\n           0       0.68      0.64      0.66       495\\n           1       0.90      0.89      0.89       686\\n           2       0.90      0.93      0.91      1210\\n\\n    accuracy                           0.86      2391\\n   macro avg       0.83      0.82      0.82      2391\\nweighted avg       0.86      0.86      0.86      2391\\n\",\n          \"              precision    recall  f1-score   support\\n\\n           0       0.68      0.65      0.67       495\\n           1       0.90      0.89      0.89       686\\n           2       0.90      0.93      0.92      1210\\n\\n    accuracy                           0.86      2391\\n   macro avg       0.83      0.82      0.83      2391\\nweighted avg       0.86      0.86      0.86      2391\\n\"\n        ],\n        \"semantic_type\": \"\",\n        \"description\": \"\"\n      }\n    }\n  ]\n}",
              "type": "dataframe",
              "variable_name": "metrics_df"
            },
            "text/html": [
              "\n",
              "  <div id=\"df-4975600c-ccf0-4e06-ac61-31755ce23b49\" class=\"colab-df-container\">\n",
              "    <div>\n",
              "<style scoped>\n",
              "    .dataframe tbody tr th:only-of-type {\n",
              "        vertical-align: middle;\n",
              "    }\n",
              "\n",
              "    .dataframe tbody tr th {\n",
              "        vertical-align: top;\n",
              "    }\n",
              "\n",
              "    .dataframe thead th {\n",
              "        text-align: right;\n",
              "    }\n",
              "</style>\n",
              "<table border=\"1\" class=\"dataframe\">\n",
              "  <thead>\n",
              "    <tr style=\"text-align: right;\">\n",
              "      <th></th>\n",
              "      <th>accuracy</th>\n",
              "      <th>precision</th>\n",
              "      <th>recall</th>\n",
              "      <th>f1_score</th>\n",
              "      <th>confusion_matrix</th>\n",
              "      <th>classification_report</th>\n",
              "    </tr>\n",
              "  </thead>\n",
              "  <tbody>\n",
              "    <tr>\n",
              "      <th>LightGBM</th>\n",
              "      <td>0.859473</td>\n",
              "      <td>0.857323</td>\n",
              "      <td>0.859473</td>\n",
              "      <td>0.858222</td>\n",
              "      <td>[[322, 61, 112], [70, 609, 7], [80, 6, 1124]]</td>\n",
              "      <td>precision    recall  f1-score   ...</td>\n",
              "    </tr>\n",
              "    <tr>\n",
              "      <th>XGBoost</th>\n",
              "      <td>0.849854</td>\n",
              "      <td>0.849013</td>\n",
              "      <td>0.849854</td>\n",
              "      <td>0.849419</td>\n",
              "      <td>[[319, 69, 107], [70, 609, 7], [98, 8, 1104]]</td>\n",
              "      <td>precision    recall  f1-score   ...</td>\n",
              "    </tr>\n",
              "    <tr>\n",
              "      <th>CatBoost</th>\n",
              "      <td>0.852781</td>\n",
              "      <td>0.852051</td>\n",
              "      <td>0.852781</td>\n",
              "      <td>0.852348</td>\n",
              "      <td>[[322, 62, 111], [73, 605, 8], [93, 5, 1112]]</td>\n",
              "      <td>precision    recall  f1-score   ...</td>\n",
              "    </tr>\n",
              "    <tr>\n",
              "      <th>Voting</th>\n",
              "      <td>0.8578</td>\n",
              "      <td>0.855196</td>\n",
              "      <td>0.8578</td>\n",
              "      <td>0.856301</td>\n",
              "      <td>[[318, 63, 114], [67, 612, 7], [82, 7, 1121]]</td>\n",
              "      <td>precision    recall  f1-score   ...</td>\n",
              "    </tr>\n",
              "  </tbody>\n",
              "</table>\n",
              "</div>\n",
              "    <div class=\"colab-df-buttons\">\n",
              "\n",
              "  <div class=\"colab-df-container\">\n",
              "    <button class=\"colab-df-convert\" onclick=\"convertToInteractive('df-4975600c-ccf0-4e06-ac61-31755ce23b49')\"\n",
              "            title=\"Convert this dataframe to an interactive table.\"\n",
              "            style=\"display:none;\">\n",
              "\n",
              "  <svg xmlns=\"http://www.w3.org/2000/svg\" height=\"24px\" viewBox=\"0 -960 960 960\">\n",
              "    <path d=\"M120-120v-720h720v720H120Zm60-500h600v-160H180v160Zm220 220h160v-160H400v160Zm0 220h160v-160H400v160ZM180-400h160v-160H180v160Zm440 0h160v-160H620v160ZM180-180h160v-160H180v160Zm440 0h160v-160H620v160Z\"/>\n",
              "  </svg>\n",
              "    </button>\n",
              "\n",
              "  <style>\n",
              "    .colab-df-container {\n",
              "      display:flex;\n",
              "      gap: 12px;\n",
              "    }\n",
              "\n",
              "    .colab-df-convert {\n",
              "      background-color: #E8F0FE;\n",
              "      border: none;\n",
              "      border-radius: 50%;\n",
              "      cursor: pointer;\n",
              "      display: none;\n",
              "      fill: #1967D2;\n",
              "      height: 32px;\n",
              "      padding: 0 0 0 0;\n",
              "      width: 32px;\n",
              "    }\n",
              "\n",
              "    .colab-df-convert:hover {\n",
              "      background-color: #E2EBFA;\n",
              "      box-shadow: 0px 1px 2px rgba(60, 64, 67, 0.3), 0px 1px 3px 1px rgba(60, 64, 67, 0.15);\n",
              "      fill: #174EA6;\n",
              "    }\n",
              "\n",
              "    .colab-df-buttons div {\n",
              "      margin-bottom: 4px;\n",
              "    }\n",
              "\n",
              "    [theme=dark] .colab-df-convert {\n",
              "      background-color: #3B4455;\n",
              "      fill: #D2E3FC;\n",
              "    }\n",
              "\n",
              "    [theme=dark] .colab-df-convert:hover {\n",
              "      background-color: #434B5C;\n",
              "      box-shadow: 0px 1px 3px 1px rgba(0, 0, 0, 0.15);\n",
              "      filter: drop-shadow(0px 1px 2px rgba(0, 0, 0, 0.3));\n",
              "      fill: #FFFFFF;\n",
              "    }\n",
              "  </style>\n",
              "\n",
              "    <script>\n",
              "      const buttonEl =\n",
              "        document.querySelector('#df-4975600c-ccf0-4e06-ac61-31755ce23b49 button.colab-df-convert');\n",
              "      buttonEl.style.display =\n",
              "        google.colab.kernel.accessAllowed ? 'block' : 'none';\n",
              "\n",
              "      async function convertToInteractive(key) {\n",
              "        const element = document.querySelector('#df-4975600c-ccf0-4e06-ac61-31755ce23b49');\n",
              "        const dataTable =\n",
              "          await google.colab.kernel.invokeFunction('convertToInteractive',\n",
              "                                                    [key], {});\n",
              "        if (!dataTable) return;\n",
              "\n",
              "        const docLinkHtml = 'Like what you see? Visit the ' +\n",
              "          '<a target=\"_blank\" href=https://colab.research.google.com/notebooks/data_table.ipynb>data table notebook</a>'\n",
              "          + ' to learn more about interactive tables.';\n",
              "        element.innerHTML = '';\n",
              "        dataTable['output_type'] = 'display_data';\n",
              "        await google.colab.output.renderOutput(dataTable, element);\n",
              "        const docLink = document.createElement('div');\n",
              "        docLink.innerHTML = docLinkHtml;\n",
              "        element.appendChild(docLink);\n",
              "      }\n",
              "    </script>\n",
              "  </div>\n",
              "\n",
              "\n",
              "    <div id=\"df-3c31f679-9799-4bc4-b0c9-3cb3317af962\">\n",
              "      <button class=\"colab-df-quickchart\" onclick=\"quickchart('df-3c31f679-9799-4bc4-b0c9-3cb3317af962')\"\n",
              "                title=\"Suggest charts\"\n",
              "                style=\"display:none;\">\n",
              "\n",
              "<svg xmlns=\"http://www.w3.org/2000/svg\" height=\"24px\"viewBox=\"0 0 24 24\"\n",
              "     width=\"24px\">\n",
              "    <g>\n",
              "        <path d=\"M19 3H5c-1.1 0-2 .9-2 2v14c0 1.1.9 2 2 2h14c1.1 0 2-.9 2-2V5c0-1.1-.9-2-2-2zM9 17H7v-7h2v7zm4 0h-2V7h2v10zm4 0h-2v-4h2v4z\"/>\n",
              "    </g>\n",
              "</svg>\n",
              "      </button>\n",
              "\n",
              "<style>\n",
              "  .colab-df-quickchart {\n",
              "      --bg-color: #E8F0FE;\n",
              "      --fill-color: #1967D2;\n",
              "      --hover-bg-color: #E2EBFA;\n",
              "      --hover-fill-color: #174EA6;\n",
              "      --disabled-fill-color: #AAA;\n",
              "      --disabled-bg-color: #DDD;\n",
              "  }\n",
              "\n",
              "  [theme=dark] .colab-df-quickchart {\n",
              "      --bg-color: #3B4455;\n",
              "      --fill-color: #D2E3FC;\n",
              "      --hover-bg-color: #434B5C;\n",
              "      --hover-fill-color: #FFFFFF;\n",
              "      --disabled-bg-color: #3B4455;\n",
              "      --disabled-fill-color: #666;\n",
              "  }\n",
              "\n",
              "  .colab-df-quickchart {\n",
              "    background-color: var(--bg-color);\n",
              "    border: none;\n",
              "    border-radius: 50%;\n",
              "    cursor: pointer;\n",
              "    display: none;\n",
              "    fill: var(--fill-color);\n",
              "    height: 32px;\n",
              "    padding: 0;\n",
              "    width: 32px;\n",
              "  }\n",
              "\n",
              "  .colab-df-quickchart:hover {\n",
              "    background-color: var(--hover-bg-color);\n",
              "    box-shadow: 0 1px 2px rgba(60, 64, 67, 0.3), 0 1px 3px 1px rgba(60, 64, 67, 0.15);\n",
              "    fill: var(--button-hover-fill-color);\n",
              "  }\n",
              "\n",
              "  .colab-df-quickchart-complete:disabled,\n",
              "  .colab-df-quickchart-complete:disabled:hover {\n",
              "    background-color: var(--disabled-bg-color);\n",
              "    fill: var(--disabled-fill-color);\n",
              "    box-shadow: none;\n",
              "  }\n",
              "\n",
              "  .colab-df-spinner {\n",
              "    border: 2px solid var(--fill-color);\n",
              "    border-color: transparent;\n",
              "    border-bottom-color: var(--fill-color);\n",
              "    animation:\n",
              "      spin 1s steps(1) infinite;\n",
              "  }\n",
              "\n",
              "  @keyframes spin {\n",
              "    0% {\n",
              "      border-color: transparent;\n",
              "      border-bottom-color: var(--fill-color);\n",
              "      border-left-color: var(--fill-color);\n",
              "    }\n",
              "    20% {\n",
              "      border-color: transparent;\n",
              "      border-left-color: var(--fill-color);\n",
              "      border-top-color: var(--fill-color);\n",
              "    }\n",
              "    30% {\n",
              "      border-color: transparent;\n",
              "      border-left-color: var(--fill-color);\n",
              "      border-top-color: var(--fill-color);\n",
              "      border-right-color: var(--fill-color);\n",
              "    }\n",
              "    40% {\n",
              "      border-color: transparent;\n",
              "      border-right-color: var(--fill-color);\n",
              "      border-top-color: var(--fill-color);\n",
              "    }\n",
              "    60% {\n",
              "      border-color: transparent;\n",
              "      border-right-color: var(--fill-color);\n",
              "    }\n",
              "    80% {\n",
              "      border-color: transparent;\n",
              "      border-right-color: var(--fill-color);\n",
              "      border-bottom-color: var(--fill-color);\n",
              "    }\n",
              "    90% {\n",
              "      border-color: transparent;\n",
              "      border-bottom-color: var(--fill-color);\n",
              "    }\n",
              "  }\n",
              "</style>\n",
              "\n",
              "      <script>\n",
              "        async function quickchart(key) {\n",
              "          const quickchartButtonEl =\n",
              "            document.querySelector('#' + key + ' button');\n",
              "          quickchartButtonEl.disabled = true;  // To prevent multiple clicks.\n",
              "          quickchartButtonEl.classList.add('colab-df-spinner');\n",
              "          try {\n",
              "            const charts = await google.colab.kernel.invokeFunction(\n",
              "                'suggestCharts', [key], {});\n",
              "          } catch (error) {\n",
              "            console.error('Error during call to suggestCharts:', error);\n",
              "          }\n",
              "          quickchartButtonEl.classList.remove('colab-df-spinner');\n",
              "          quickchartButtonEl.classList.add('colab-df-quickchart-complete');\n",
              "        }\n",
              "        (() => {\n",
              "          let quickchartButtonEl =\n",
              "            document.querySelector('#df-3c31f679-9799-4bc4-b0c9-3cb3317af962 button');\n",
              "          quickchartButtonEl.style.display =\n",
              "            google.colab.kernel.accessAllowed ? 'block' : 'none';\n",
              "        })();\n",
              "      </script>\n",
              "    </div>\n",
              "\n",
              "  <div id=\"id_44a77ab4-5b8e-423f-9003-8b846940ac34\">\n",
              "    <style>\n",
              "      .colab-df-generate {\n",
              "        background-color: #E8F0FE;\n",
              "        border: none;\n",
              "        border-radius: 50%;\n",
              "        cursor: pointer;\n",
              "        display: none;\n",
              "        fill: #1967D2;\n",
              "        height: 32px;\n",
              "        padding: 0 0 0 0;\n",
              "        width: 32px;\n",
              "      }\n",
              "\n",
              "      .colab-df-generate:hover {\n",
              "        background-color: #E2EBFA;\n",
              "        box-shadow: 0px 1px 2px rgba(60, 64, 67, 0.3), 0px 1px 3px 1px rgba(60, 64, 67, 0.15);\n",
              "        fill: #174EA6;\n",
              "      }\n",
              "\n",
              "      [theme=dark] .colab-df-generate {\n",
              "        background-color: #3B4455;\n",
              "        fill: #D2E3FC;\n",
              "      }\n",
              "\n",
              "      [theme=dark] .colab-df-generate:hover {\n",
              "        background-color: #434B5C;\n",
              "        box-shadow: 0px 1px 3px 1px rgba(0, 0, 0, 0.15);\n",
              "        filter: drop-shadow(0px 1px 2px rgba(0, 0, 0, 0.3));\n",
              "        fill: #FFFFFF;\n",
              "      }\n",
              "    </style>\n",
              "    <button class=\"colab-df-generate\" onclick=\"generateWithVariable('metrics_df')\"\n",
              "            title=\"Generate code using this dataframe.\"\n",
              "            style=\"display:none;\">\n",
              "\n",
              "  <svg xmlns=\"http://www.w3.org/2000/svg\" height=\"24px\"viewBox=\"0 0 24 24\"\n",
              "       width=\"24px\">\n",
              "    <path d=\"M7,19H8.4L18.45,9,17,7.55,7,17.6ZM5,21V16.75L18.45,3.32a2,2,0,0,1,2.83,0l1.4,1.43a1.91,1.91,0,0,1,.58,1.4,1.91,1.91,0,0,1-.58,1.4L9.25,21ZM18.45,9,17,7.55Zm-12,3A5.31,5.31,0,0,0,4.9,8.1,5.31,5.31,0,0,0,1,6.5,5.31,5.31,0,0,0,4.9,4.9,5.31,5.31,0,0,0,6.5,1,5.31,5.31,0,0,0,8.1,4.9,5.31,5.31,0,0,0,12,6.5,5.46,5.46,0,0,0,6.5,12Z\"/>\n",
              "  </svg>\n",
              "    </button>\n",
              "    <script>\n",
              "      (() => {\n",
              "      const buttonEl =\n",
              "        document.querySelector('#id_44a77ab4-5b8e-423f-9003-8b846940ac34 button.colab-df-generate');\n",
              "      buttonEl.style.display =\n",
              "        google.colab.kernel.accessAllowed ? 'block' : 'none';\n",
              "\n",
              "      buttonEl.onclick = () => {\n",
              "        google.colab.notebook.generateWithVariable('metrics_df');\n",
              "      }\n",
              "      })();\n",
              "    </script>\n",
              "  </div>\n",
              "\n",
              "    </div>\n",
              "  </div>\n"
            ],
            "text/plain": [
              "          accuracy precision    recall  f1_score  \\\n",
              "LightGBM  0.859473  0.857323  0.859473  0.858222   \n",
              "XGBoost   0.849854  0.849013  0.849854  0.849419   \n",
              "CatBoost  0.852781  0.852051  0.852781  0.852348   \n",
              "Voting      0.8578  0.855196    0.8578  0.856301   \n",
              "\n",
              "                                       confusion_matrix  \\\n",
              "LightGBM  [[322, 61, 112], [70, 609, 7], [80, 6, 1124]]   \n",
              "XGBoost   [[319, 69, 107], [70, 609, 7], [98, 8, 1104]]   \n",
              "CatBoost  [[322, 62, 111], [73, 605, 8], [93, 5, 1112]]   \n",
              "Voting    [[318, 63, 114], [67, 612, 7], [82, 7, 1121]]   \n",
              "\n",
              "                                      classification_report  \n",
              "LightGBM                precision    recall  f1-score   ...  \n",
              "XGBoost                 precision    recall  f1-score   ...  \n",
              "CatBoost                precision    recall  f1-score   ...  \n",
              "Voting                  precision    recall  f1-score   ...  "
            ]
          },
          "execution_count": 174,
          "metadata": {},
          "output_type": "execute_result"
        }
      ],
      "source": [
        "metrics_df"
      ]
    },
    {
      "cell_type": "markdown",
      "metadata": {
        "id": "rkBUluv9yEa_"
      },
      "source": [
        "# Model persistance and results display"
      ]
    },
    {
      "cell_type": "code",
      "execution_count": null,
      "metadata": {
        "colab": {
          "base_uri": "https://localhost:8080/"
        },
        "id": "d32v3SBa_9bc",
        "outputId": "5d05cd22-30a1-40d3-815e-34149624d451"
      },
      "outputs": [
        {
          "data": {
            "text/plain": [
              "({'learning_rate': 0.3,\n",
              "  'max_depth': 7,\n",
              "  'n_estimators': 200,\n",
              "  'num_leaves': 50,\n",
              "  'subsample': 0.8},\n",
              " XGBClassifier(base_score=None, booster=None, callbacks=None,\n",
              "               colsample_bylevel=None, colsample_bynode=None,\n",
              "               colsample_bytree=1.0, device=None, early_stopping_rounds=None,\n",
              "               enable_categorical=False, eval_metric=None, feature_types=None,\n",
              "               feature_weights=None, gamma=None, grow_policy=None,\n",
              "               importance_type=None, interaction_constraints=None,\n",
              "               learning_rate=0.3, max_bin=None, max_cat_threshold=None,\n",
              "               max_cat_to_onehot=None, max_delta_step=None, max_depth=7,\n",
              "               max_leaves=None, min_child_weight=None, missing=nan,\n",
              "               monotone_constraints=None, multi_strategy=None, n_estimators=300,\n",
              "               n_jobs=None, num_parallel_tree=None, ...))"
            ]
          },
          "execution_count": 189,
          "metadata": {},
          "output_type": "execute_result"
        }
      ],
      "source": [
        "results['LightGBM']['best_params'], xgbm"
      ]
    },
    {
      "cell_type": "code",
      "execution_count": null,
      "metadata": {
        "colab": {
          "base_uri": "https://localhost:8080/"
        },
        "id": "55MaQ1-vDMWh",
        "outputId": "da4eb902-6b28-437b-91d1-334c0162c170"
      },
      "outputs": [
        {
          "data": {
            "text/plain": [
              "['koi_score',\n",
              " 'koi_period',\n",
              " 'koi_impact',\n",
              " 'koi_duration',\n",
              " 'koi_depth',\n",
              " 'koi_prad',\n",
              " 'koi_teq',\n",
              " 'koi_max_sngle_ev',\n",
              " 'koi_max_mult_ev',\n",
              " 'koi_model_snr',\n",
              " 'koi_count',\n",
              " 'koi_num_transits',\n",
              " 'koi_bin_oedp_sig',\n",
              " 'koi_steff',\n",
              " 'koi_slogg',\n",
              " 'koi_srad',\n",
              " 'koi_smass',\n",
              " 'koi_kepmag',\n",
              " 'koi_gmag',\n",
              " 'koi_rmag',\n",
              " 'koi_jmag',\n",
              " 'koi_kmag',\n",
              " 'koi_fwm_stat_sig',\n",
              " 'koi_fwm_prao',\n",
              " 'koi_fwm_pdeco',\n",
              " 'koi_dicco_mra',\n",
              " 'koi_dicco_msky',\n",
              " 'koi_dikco_mra',\n",
              " 'koi_dikco_msky']"
            ]
          },
          "execution_count": 197,
          "metadata": {},
          "output_type": "execute_result"
        }
      ],
      "source": [
        "X.columns.to_list()"
      ]
    },
    {
      "cell_type": "code",
      "execution_count": null,
      "metadata": {
        "id": "OpgqT0ImEsdr"
      },
      "outputs": [],
      "source": [
        "# preprocessing_pipeline: Pipeline = Pipeline([\n",
        "#     ('imputer', KNNImputer()),\n",
        "#     ('scaler', RobustScaler()),\n",
        "#     ('selector', SelectKBest(score_func=f_classif, k=25)),\n",
        "# ])\n",
        "\n",
        "# nn = NearestNeighbors(n_neighbors=2, algorithm='auto')\n",
        "# nn.fit(X_train)\n",
        "\n",
        "xgb_pipe = Pipeline([\n",
        "    ('preprocessing', preprocessing_pipeline),\n",
        "    ('model', xgbm)\n",
        "])\n",
        "\n",
        "lgbm_pipe = Pipeline([\n",
        "    ('preprocessing', preprocessing_pipeline),\n",
        "    ('model', lgbm)\n",
        "])\n",
        "\n",
        "cbm_pipe = Pipeline([\n",
        "    ('preprocessing', preprocessing_pipeline),\n",
        "    ('model', cbm)\n",
        "])\n",
        "\n",
        "vc_pipe = Pipeline([\n",
        "    ('preprocessing', preprocessing_pipeline),\n",
        "    ('model', vc)\n",
        "])"
      ]
    },
    {
      "cell_type": "code",
      "execution_count": null,
      "metadata": {
        "colab": {
          "base_uri": "https://localhost:8080/"
        },
        "id": "sI3hqsy9yI24",
        "outputId": "fe87cc0f-1aea-4ceb-9cd6-c71f32d3fb29"
      },
      "outputs": [
        {
          "data": {
            "text/plain": [
              "['NearestNeighbour.pkl']"
            ]
          },
          "execution_count": 198,
          "metadata": {},
          "output_type": "execute_result"
        }
      ],
      "source": [
        "import joblib\n",
        "\n",
        "joblib.dump(le, 'LabelEncoding.pkl')\n",
        "joblib.dump(preprocessing_pipeline, 'PreprocessingPipe.pkl')\n",
        "\n",
        "joblib.dump(xgb_pipe, 'XGBoostPipe.pkl')\n",
        "joblib.dump(lgbm_pipe, 'LightGBMPipe.pkl')\n",
        "joblib.dump(cbm_pipe, 'CatBoostPipe.pkl')\n",
        "joblib.dump(vc_pipe, 'VotingClassifierPipe.pkl')\n",
        "\n",
        "joblib.dump(nn, 'NearestNeighbour.pkl')"
      ]
    },
    {
      "cell_type": "code",
      "execution_count": null,
      "metadata": {
        "colab": {
          "base_uri": "https://localhost:8080/"
        },
        "id": "jcV-_BbLz9Ws",
        "outputId": "bdca54de-dbc2-4418-df4e-abc5b998ffee"
      },
      "outputs": [
        {
          "data": {
            "text/plain": [
              "Index(['accuracy', 'precision', 'recall', 'f1_score', 'confusion_matrix',\n",
              "       'classification_report'],\n",
              "      dtype='object')"
            ]
          },
          "execution_count": 171,
          "metadata": {},
          "output_type": "execute_result"
        }
      ],
      "source": [
        "results_df.columns"
      ]
    },
    {
      "cell_type": "code",
      "execution_count": null,
      "metadata": {
        "id": "0eNfTPYwy5vN"
      },
      "outputs": [],
      "source": [
        "sns.barplot(data=results_df, x=results_df.index, y='accuracy', hue=results_df.index)\n",
        "plt.title(\"Accuracy comparison\")\n",
        "min_acc = min(results_df['accuracy']) - 0.005\n",
        "max_acc = max(results_df['accuracy']) + 0.005\n",
        "plt.ylim(min_acc, max_acc)\n",
        "plt.ylabel('Accuracy')\n",
        "plt.xlabel('Models')\n",
        "plt.show()"
      ]
    },
    {
      "cell_type": "code",
      "execution_count": null,
      "metadata": {
        "id": "LnVCr_iKz7z0"
      },
      "outputs": [],
      "source": [
        "sns.barplot(data=results_df, x=results_df.index, y='precision', hue=results_df.index)\n",
        "plt.title(\"Precision comparison\")\n",
        "min_acc = min(results_df['precision']) - 0.005\n",
        "max_acc = max(results_df['precision']) + 0.005\n",
        "plt.ylim(min_acc, max_acc)\n",
        "plt.ylabel('Precision')\n",
        "plt.xlabel('Models')\n",
        "plt.show()"
      ]
    },
    {
      "cell_type": "code",
      "execution_count": null,
      "metadata": {
        "id": "-FQLOTBE0GF8"
      },
      "outputs": [],
      "source": [
        "sns.barplot(data=results_df, x=results_df.index, y='recall', hue=results_df.index)\n",
        "plt.title(\"Recall comparison\")\n",
        "min_acc = min(results_df['recall']) - 0.005\n",
        "max_acc = max(results_df['recall']) + 0.005\n",
        "plt.ylim(min_acc, max_acc)\n",
        "plt.ylabel('Recall')\n",
        "plt.xlabel('Models')\n",
        "plt.show()"
      ]
    },
    {
      "cell_type": "code",
      "execution_count": null,
      "metadata": {
        "id": "mAiQwysU0d8u"
      },
      "outputs": [],
      "source": [
        "sns.barplot(data=results_df, x=results_df.index, y='f1_score', hue=results_df.index)\n",
        "plt.title(\"F1 score comparison\")\n",
        "min_acc = min(results_df['f1_score']) - 0.005\n",
        "max_acc = max(results_df['f1_score']) + 0.005\n",
        "plt.ylim(min_acc, max_acc)\n",
        "plt.ylabel('F1 score')\n",
        "plt.xlabel('Models')\n",
        "plt.show()"
      ]
    },
    {
      "cell_type": "markdown",
      "metadata": {
        "id": "1UdFEpHV1K3d"
      },
      "source": [
        "# KNN Neighbours\n"
      ]
    }
  ],
  "metadata": {
    "colab": {
      "collapsed_sections": [
        "B61RgqUUT0uV",
        "UPRJvy96Kc-r",
        "2ePhfDMUNL0H",
        "K8GR5YNIxizJ",
        "00R6-ducSM1q",
        "QwQfv10KwGT5"
      ],
      "provenance": []
    },
    "kernelspec": {
      "display_name": "Python 3",
      "name": "python3"
    },
    "language_info": {
      "name": "python"
    }
  },
  "nbformat": 4,
  "nbformat_minor": 0
}
